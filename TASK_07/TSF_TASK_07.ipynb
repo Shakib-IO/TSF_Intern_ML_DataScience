{
  "nbformat": 4,
  "nbformat_minor": 0,
  "metadata": {
    "colab": {
      "name": "TSF_TASK_07.ipynb",
      "provenance": [],
      "collapsed_sections": []
    },
    "kernelspec": {
      "name": "python3",
      "display_name": "Python 3"
    }
  },
  "cells": [
    {
      "cell_type": "markdown",
      "metadata": {
        "id": "AQsWlC9_ZH2H"
      },
      "source": [
        "**Stock Market Prediction using**<br>\r\n",
        "Numerical and Textual Analysis\r\n",
        "(Level - Advanced)<br>\r\n",
        "● Objective: Create a hybrid model for stock price/performance\r\n",
        "prediction using numerical analysis of historical stock prices, and\r\n",
        "sentimental analysis of news headlines<br>\r\n",
        "● Stock to analyze and predict - SENSEX (S&P BSE SENSEX)<br>\r\n",
        "● Download historical stock prices from finance.yahoo.com<br>\r\n",
        "● Download textual (news) data from https://bit.ly/36fFPI6<br>\r\n",
        "● Use either R or Python, or both for separate analysis and then\r\n",
        "combine the findings to create a hybrid model.<br>\r\n",
        "● You are free to select a different stock to analyze and news dataset\r\n",
        "as well while not changing the objective of the task.<br>"
      ]
    },
    {
      "cell_type": "code",
      "metadata": {
        "id": "W7pvSwVsZEBD"
      },
      "source": [
        "import numpy as np\r\n",
        "import pandas as pd\r\n",
        "import matplotlib.pyplot as plt\r\n",
        "%matplotlib inline \r\n",
        "import seaborn as sns \r\n",
        "import itertools\r\n",
        "from statsmodels.tsa.stattools import adfuller, acf, pacf\r\n",
        "from statsmodels.tsa.arima_model import ARIMA #https://www.statsmodels.org/devel/generated/statsmodels.tsa.arima_model.ARIMA.html\r\n",
        "sns.set_style('whitegrid')\r\n",
        "plt.style.use(\"fivethirtyeight\")"
      ],
      "execution_count": 1,
      "outputs": []
    },
    {
      "cell_type": "code",
      "metadata": {
        "colab": {
          "base_uri": "https://localhost:8080/"
        },
        "id": "5YXWR0tjdnfb",
        "outputId": "717ef643-3349-488d-f596-a9652fd976e2"
      },
      "source": [
        "#Lets import other libraries for text analysis\r\n",
        "import nltk ##https://www.nltk.org/\r\n",
        "import re #https://docs.python.org/3/library/re.html\r\n",
        "from nltk.corpus import stopwords\r\n",
        "nltk.download('stopwords')\r\n",
        "nltk.download('vader_lexicon')\r\n",
        "from nltk.sentiment.vader import SentimentIntensityAnalyzer\r\n",
        "from nltk.stem.porter import PorterStemmer\r\n",
        "\r\n",
        "from textblob import TextBlob #https://textblob.readthedocs.io/en/dev/\r\n",
        "from sklearn.metrics import mean_squared_error\r\n",
        "from sklearn.model_selection import train_test_split\r\n",
        "from sklearn.ensemble import RandomForestRegressor, AdaBoostRegressor\r\n",
        "import xgboost #https://xgboost.readthedocs.io/en/latest/\r\n",
        "import lightgbm #https://lightgbm.readthedocs.io/en/latest/"
      ],
      "execution_count": 58,
      "outputs": [
        {
          "output_type": "stream",
          "text": [
            "[nltk_data] Downloading package stopwords to /root/nltk_data...\n",
            "[nltk_data]   Package stopwords is already up-to-date!\n",
            "[nltk_data] Downloading package vader_lexicon to /root/nltk_data...\n",
            "[nltk_data]   Package vader_lexicon is already up-to-date!\n"
          ],
          "name": "stdout"
        }
      ]
    },
    {
      "cell_type": "code",
      "metadata": {
        "id": "aHLH9O48hvhN"
      },
      "source": [
        "#https://pypi.org/project/pmdarima/\r\n",
        "#Pmdarima is a statistical library designed to fill the void in Python's time series analysis capabilities\r\n",
        "!pip install pmdarima"
      ],
      "execution_count": null,
      "outputs": []
    },
    {
      "cell_type": "code",
      "metadata": {
        "colab": {
          "resources": {
            "http://localhost:8080/nbextensions/google.colab/files.js": {
              "data": "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",
              "ok": true,
              "headers": [
                [
                  "content-type",
                  "application/javascript"
                ]
              ],
              "status": 200,
              "status_text": ""
            }
          },
          "base_uri": "https://localhost:8080/",
          "height": 72
        },
        "id": "WabvMHrfh2KX",
        "outputId": "9fafe87a-6550-4533-81d9-0ddf1235b570"
      },
      "source": [
        "#Upload CSV file using google colab\r\n",
        "from google.colab import files\r\n",
        "uploaded =  files.upload()"
      ],
      "execution_count": 5,
      "outputs": [
        {
          "output_type": "display_data",
          "data": {
            "text/html": [
              "\n",
              "     <input type=\"file\" id=\"files-e581c3c0-df97-43b1-b8db-4488aec6f2f1\" name=\"files[]\" multiple disabled\n",
              "        style=\"border:none\" />\n",
              "     <output id=\"result-e581c3c0-df97-43b1-b8db-4488aec6f2f1\">\n",
              "      Upload widget is only available when the cell has been executed in the\n",
              "      current browser session. Please rerun this cell to enable.\n",
              "      </output>\n",
              "      <script src=\"/nbextensions/google.colab/files.js\"></script> "
            ],
            "text/plain": [
              "<IPython.core.display.HTML object>"
            ]
          },
          "metadata": {
            "tags": []
          }
        },
        {
          "output_type": "stream",
          "text": [
            "Saving BSESN.csv to BSESN.csv\n"
          ],
          "name": "stdout"
        }
      ]
    },
    {
      "cell_type": "code",
      "metadata": {
        "colab": {
          "base_uri": "https://localhost:8080/",
          "height": 359
        },
        "id": "00WeiVrGkF39",
        "outputId": "fc68c3f0-5614-4e4f-8f59-aa5634bfe9ea"
      },
      "source": [
        "# The dataset from yahoo finance\r\n",
        "df_prices =  pd.read_csv('BSESN.csv')\r\n",
        "df_prices.head(10)"
      ],
      "execution_count": 11,
      "outputs": [
        {
          "output_type": "execute_result",
          "data": {
            "text/html": [
              "<div>\n",
              "<style scoped>\n",
              "    .dataframe tbody tr th:only-of-type {\n",
              "        vertical-align: middle;\n",
              "    }\n",
              "\n",
              "    .dataframe tbody tr th {\n",
              "        vertical-align: top;\n",
              "    }\n",
              "\n",
              "    .dataframe thead th {\n",
              "        text-align: right;\n",
              "    }\n",
              "</style>\n",
              "<table border=\"1\" class=\"dataframe\">\n",
              "  <thead>\n",
              "    <tr style=\"text-align: right;\">\n",
              "      <th></th>\n",
              "      <th>Date</th>\n",
              "      <th>Open</th>\n",
              "      <th>High</th>\n",
              "      <th>Low</th>\n",
              "      <th>Close</th>\n",
              "      <th>Adj Close</th>\n",
              "      <th>Volume</th>\n",
              "    </tr>\n",
              "  </thead>\n",
              "  <tbody>\n",
              "    <tr>\n",
              "      <th>0</th>\n",
              "      <td>2020-01-20</td>\n",
              "      <td>42263.000000</td>\n",
              "      <td>42273.871094</td>\n",
              "      <td>41503.371094</td>\n",
              "      <td>41528.910156</td>\n",
              "      <td>41528.910156</td>\n",
              "      <td>7500.0</td>\n",
              "    </tr>\n",
              "    <tr>\n",
              "      <th>1</th>\n",
              "      <td>2020-01-21</td>\n",
              "      <td>41487.570313</td>\n",
              "      <td>41532.589844</td>\n",
              "      <td>41294.300781</td>\n",
              "      <td>41323.808594</td>\n",
              "      <td>41323.808594</td>\n",
              "      <td>8900.0</td>\n",
              "    </tr>\n",
              "    <tr>\n",
              "      <th>2</th>\n",
              "      <td>2020-01-22</td>\n",
              "      <td>41467.128906</td>\n",
              "      <td>41532.289063</td>\n",
              "      <td>41059.039063</td>\n",
              "      <td>41115.378906</td>\n",
              "      <td>41115.378906</td>\n",
              "      <td>7700.0</td>\n",
              "    </tr>\n",
              "    <tr>\n",
              "      <th>3</th>\n",
              "      <td>2020-01-23</td>\n",
              "      <td>41191.500000</td>\n",
              "      <td>41413.960938</td>\n",
              "      <td>41098.910156</td>\n",
              "      <td>41386.398438</td>\n",
              "      <td>41386.398438</td>\n",
              "      <td>9900.0</td>\n",
              "    </tr>\n",
              "    <tr>\n",
              "      <th>4</th>\n",
              "      <td>2020-01-24</td>\n",
              "      <td>41377.039063</td>\n",
              "      <td>41697.031250</td>\n",
              "      <td>41275.601563</td>\n",
              "      <td>41613.191406</td>\n",
              "      <td>41613.191406</td>\n",
              "      <td>6600.0</td>\n",
              "    </tr>\n",
              "    <tr>\n",
              "      <th>5</th>\n",
              "      <td>2020-01-27</td>\n",
              "      <td>41510.679688</td>\n",
              "      <td>41516.269531</td>\n",
              "      <td>41122.480469</td>\n",
              "      <td>41155.121094</td>\n",
              "      <td>41155.121094</td>\n",
              "      <td>7000.0</td>\n",
              "    </tr>\n",
              "    <tr>\n",
              "      <th>6</th>\n",
              "      <td>2020-01-28</td>\n",
              "      <td>41299.679688</td>\n",
              "      <td>41333.250000</td>\n",
              "      <td>40869.750000</td>\n",
              "      <td>40966.859375</td>\n",
              "      <td>40966.859375</td>\n",
              "      <td>9800.0</td>\n",
              "    </tr>\n",
              "    <tr>\n",
              "      <th>7</th>\n",
              "      <td>2020-01-29</td>\n",
              "      <td>41131.570313</td>\n",
              "      <td>41334.859375</td>\n",
              "      <td>41108.191406</td>\n",
              "      <td>41198.660156</td>\n",
              "      <td>41198.660156</td>\n",
              "      <td>7800.0</td>\n",
              "    </tr>\n",
              "    <tr>\n",
              "      <th>8</th>\n",
              "      <td>2020-01-30</td>\n",
              "      <td>41380.140625</td>\n",
              "      <td>41380.140625</td>\n",
              "      <td>40829.910156</td>\n",
              "      <td>40913.820313</td>\n",
              "      <td>40913.820313</td>\n",
              "      <td>6700.0</td>\n",
              "    </tr>\n",
              "    <tr>\n",
              "      <th>9</th>\n",
              "      <td>2020-01-31</td>\n",
              "      <td>41146.558594</td>\n",
              "      <td>41154.488281</td>\n",
              "      <td>40671.011719</td>\n",
              "      <td>40723.488281</td>\n",
              "      <td>40723.488281</td>\n",
              "      <td>11500.0</td>\n",
              "    </tr>\n",
              "  </tbody>\n",
              "</table>\n",
              "</div>"
            ],
            "text/plain": [
              "         Date          Open          High  ...         Close     Adj Close   Volume\n",
              "0  2020-01-20  42263.000000  42273.871094  ...  41528.910156  41528.910156   7500.0\n",
              "1  2020-01-21  41487.570313  41532.589844  ...  41323.808594  41323.808594   8900.0\n",
              "2  2020-01-22  41467.128906  41532.289063  ...  41115.378906  41115.378906   7700.0\n",
              "3  2020-01-23  41191.500000  41413.960938  ...  41386.398438  41386.398438   9900.0\n",
              "4  2020-01-24  41377.039063  41697.031250  ...  41613.191406  41613.191406   6600.0\n",
              "5  2020-01-27  41510.679688  41516.269531  ...  41155.121094  41155.121094   7000.0\n",
              "6  2020-01-28  41299.679688  41333.250000  ...  40966.859375  40966.859375   9800.0\n",
              "7  2020-01-29  41131.570313  41334.859375  ...  41198.660156  41198.660156   7800.0\n",
              "8  2020-01-30  41380.140625  41380.140625  ...  40913.820313  40913.820313   6700.0\n",
              "9  2020-01-31  41146.558594  41154.488281  ...  40723.488281  40723.488281  11500.0\n",
              "\n",
              "[10 rows x 7 columns]"
            ]
          },
          "metadata": {
            "tags": []
          },
          "execution_count": 11
        }
      ]
    },
    {
      "cell_type": "code",
      "metadata": {
        "colab": {
          "base_uri": "https://localhost:8080/"
        },
        "id": "UkV_T4qOkqxt",
        "outputId": "886189ba-dc8f-44a2-8f95-77b8d70ebeea"
      },
      "source": [
        "df_prices.info"
      ],
      "execution_count": 13,
      "outputs": [
        {
          "output_type": "execute_result",
          "data": {
            "text/plain": [
              "<bound method DataFrame.info of            Date          Open  ...     Adj Close   Volume\n",
              "0    2020-01-20  42263.000000  ...  41528.910156   7500.0\n",
              "1    2020-01-21  41487.570313  ...  41323.808594   8900.0\n",
              "2    2020-01-22  41467.128906  ...  41115.378906   7700.0\n",
              "3    2020-01-23  41191.500000  ...  41386.398438   9900.0\n",
              "4    2020-01-24  41377.039063  ...  41613.191406   6600.0\n",
              "..          ...           ...  ...           ...      ...\n",
              "245  2021-01-12  49228.261719  ...  49517.109375  12700.0\n",
              "246  2021-01-13  49763.929688  ...  49492.320313  27200.0\n",
              "247  2021-01-14  49432.828125  ...  49584.160156  24500.0\n",
              "248  2021-01-15  49656.710938  ...  49034.671875  14700.0\n",
              "249  2021-01-18  49061.218750  ...  48564.269531      0.0\n",
              "\n",
              "[250 rows x 7 columns]>"
            ]
          },
          "metadata": {
            "tags": []
          },
          "execution_count": 13
        }
      ]
    },
    {
      "cell_type": "code",
      "metadata": {
        "colab": {
          "base_uri": "https://localhost:8080/"
        },
        "id": "fdOASTiwkXB5",
        "outputId": "0b355b03-2ac1-43ef-fff2-11267915eeb7"
      },
      "source": [
        "print(df_prices.size)"
      ],
      "execution_count": 14,
      "outputs": [
        {
          "output_type": "stream",
          "text": [
            "1750\n"
          ],
          "name": "stdout"
        }
      ]
    },
    {
      "cell_type": "code",
      "metadata": {
        "colab": {
          "base_uri": "https://localhost:8080/"
        },
        "id": "XZDU_qh5khwT",
        "outputId": "873c0606-b0ee-4935-ed7c-98d20a67c858"
      },
      "source": [
        "#Converting Date column to datetime datatype\r\n",
        "df_prices['Date'] = pd.to_datetime(df_prices['Date'])\r\n",
        "df_prices.info()"
      ],
      "execution_count": 15,
      "outputs": [
        {
          "output_type": "stream",
          "text": [
            "<class 'pandas.core.frame.DataFrame'>\n",
            "RangeIndex: 250 entries, 0 to 249\n",
            "Data columns (total 7 columns):\n",
            " #   Column     Non-Null Count  Dtype         \n",
            "---  ------     --------------  -----         \n",
            " 0   Date       250 non-null    datetime64[ns]\n",
            " 1   Open       248 non-null    float64       \n",
            " 2   High       248 non-null    float64       \n",
            " 3   Low        248 non-null    float64       \n",
            " 4   Close      248 non-null    float64       \n",
            " 5   Adj Close  248 non-null    float64       \n",
            " 6   Volume     248 non-null    float64       \n",
            "dtypes: datetime64[ns](1), float64(6)\n",
            "memory usage: 13.8 KB\n"
          ],
          "name": "stdout"
        }
      ]
    },
    {
      "cell_type": "code",
      "metadata": {
        "id": "ud353PiFlFnp"
      },
      "source": [
        "df_prices.dropna(inplace = True)"
      ],
      "execution_count": 16,
      "outputs": []
    },
    {
      "cell_type": "code",
      "metadata": {
        "colab": {
          "base_uri": "https://localhost:8080/",
          "height": 388
        },
        "id": "0Ig87rJFlKJg",
        "outputId": "68e6e5c8-ae6f-4d44-ed19-dfdf8c7d72a1"
      },
      "source": [
        "plt.figure(figsize=(10, 6))\r\n",
        "df_prices['Close'].plot()\r\n",
        "plt.ylabel('Close')"
      ],
      "execution_count": 17,
      "outputs": [
        {
          "output_type": "execute_result",
          "data": {
            "text/plain": [
              "Text(0, 0.5, 'Close')"
            ]
          },
          "metadata": {
            "tags": []
          },
          "execution_count": 17
        },
        {
          "output_type": "display_data",
          "data": {
            "image/png": "[encoded data removed]",
            "text/plain": [
              "<Figure size 720x432 with 1 Axes>"
            ]
          },
          "metadata": {
            "tags": [],
            "needs_background": "light"
          }
        }
      ]
    },
    {
      "cell_type": "code",
      "metadata": {
        "colab": {
          "base_uri": "https://localhost:8080/",
          "height": 388
        },
        "id": "8Bw68ABylX05",
        "outputId": "e4b818ee-e7b6-46bb-a3e3-813d1658831f"
      },
      "source": [
        "#Plotting moving average\r\n",
        "close =  df_prices['Close']\r\n",
        "ma = close.rolling(window = 50).mean()\r\n",
        "std = close.rolling(window =  50).std()\r\n",
        "\r\n",
        "plt.figure(figsize = (10 , 6))\r\n",
        "df_prices['Close'].plot(color = 'b' , label = 'Close')\r\n",
        "ma.plot(color = 'r' , label = 'Rolling Mean')\r\n",
        "std.plot(label = 'Rolling Standard Deviation')\r\n",
        "plt.legend()"
      ],
      "execution_count": 18,
      "outputs": [
        {
          "output_type": "execute_result",
          "data": {
            "text/plain": [
              "<matplotlib.legend.Legend at 0x7f5123fd82b0>"
            ]
          },
          "metadata": {
            "tags": []
          },
          "execution_count": 18
        },
        {
          "output_type": "display_data",
          "data": {
            "image/png": "[encoded data removed]",
            "text/plain": [
              "<Figure size 720x432 with 1 Axes>"
            ]
          },
          "metadata": {
            "tags": [],
            "needs_background": "light"
          }
        }
      ]
    },
    {
      "cell_type": "code",
      "metadata": {
        "colab": {
          "base_uri": "https://localhost:8080/",
          "height": 405
        },
        "id": "48_nUFZgmSv6",
        "outputId": "836e8341-f634-4671-bb9d-83d4b1cdd835"
      },
      "source": [
        "#Plotting Returns\r\n",
        "returns  = close /close.shift(1)-1\r\n",
        "\r\n",
        "plt.figure(figsize=(10 ,6))\r\n",
        "returns.plot(label = 'Return' , color  = 'g')\r\n",
        "plt.title(\"Returns\")"
      ],
      "execution_count": 19,
      "outputs": [
        {
          "output_type": "execute_result",
          "data": {
            "text/plain": [
              "Text(0.5, 1.0, 'Returns')"
            ]
          },
          "metadata": {
            "tags": []
          },
          "execution_count": 19
        },
        {
          "output_type": "display_data",
          "data": {
            "image/png": "[encoded data removed]",
            "text/plain": [
              "<Figure size 720x432 with 1 Axes>"
            ]
          },
          "metadata": {
            "tags": [],
            "needs_background": "light"
          }
        }
      ]
    },
    {
      "cell_type": "code",
      "metadata": {
        "id": "9X2pK4tmmt64"
      },
      "source": [
        "#Spliting the data\r\n",
        "train =  df_prices[:200]\r\n",
        "test = df_prices[200:]"
      ],
      "execution_count": 33,
      "outputs": []
    },
    {
      "cell_type": "code",
      "metadata": {
        "colab": {
          "base_uri": "https://localhost:8080/",
          "height": 619
        },
        "id": "sb0YRI8NoRSB",
        "outputId": "7863cb25-7c9a-4604-fb35-2fd364634c1d"
      },
      "source": [
        "def test_stationarity(timeseries):\r\n",
        " #Determing rolling statistics\r\n",
        " rolmean = timeseries.rolling(20).mean()\r\n",
        " rolstd = timeseries.rolling(20).std()\r\n",
        "\r\n",
        " #Plot rolling statistics:\r\n",
        " plt.figure(figsize = (10,8))\r\n",
        " plt.plot(timeseries, color = 'y', label = 'original')\r\n",
        " plt.plot(rolmean, color = 'r', label = 'rolling mean')\r\n",
        " plt.plot(rolstd, color = 'b', label = 'rolling std')\r\n",
        " plt.xlabel('Date')\r\n",
        " plt.legend()\r\n",
        " plt.title('Rolling Mean and Standard Deviation',  fontsize = 20)\r\n",
        " plt.show(block = False)\r\n",
        " \r\n",
        " print('Results of dickey fuller test')\r\n",
        " result = adfuller(timeseries, autolag = 'AIC')\r\n",
        " labels = ['ADF Test Statistic','p-value','#Lags Used','Number of Observations Used']\r\n",
        " for value,label in zip(result, labels):\r\n",
        "   print(label+' : '+str(value) )\r\n",
        " if result[1] <= 0.05:\r\n",
        "   print(\"Strong evidence against the null hypothesis(Ho), reject the null hypothesis. Data is stationary\")\r\n",
        " else:\r\n",
        "   print(\"Weak evidence against null hypothesis, time series is non-stationary \")\r\n",
        "test_stationarity(train['Close'])"
      ],
      "execution_count": 34,
      "outputs": [
        {
          "output_type": "display_data",
          "data": {
            "image/png": "[encoded data removed]",
            "text/plain": [
              "<Figure size 720x576 with 1 Axes>"
            ]
          },
          "metadata": {
            "tags": [],
            "needs_background": "light"
          }
        },
        {
          "output_type": "stream",
          "text": [
            "Results of dickey fuller test\n",
            "ADF Test Statistic : -1.6085690991959651\n",
            "p-value : 0.4792876780993105\n",
            "#Lags Used : 7\n",
            "Number of Observations Used : 192\n",
            "Weak evidence against null hypothesis, time series is non-stationary \n"
          ],
          "name": "stdout"
        }
      ]
    },
    {
      "cell_type": "code",
      "metadata": {
        "colab": {
          "base_uri": "https://localhost:8080/",
          "height": 388
        },
        "id": "wvuOBNh3pF1h",
        "outputId": "c63d6364-223a-4780-f7ed-e23496b88a18"
      },
      "source": [
        "train_log =  np.log(train['Close'])\r\n",
        "test_log = np.log(test['Close'])\r\n",
        "\r\n",
        "mav =  train_log.rolling(24).mean()\r\n",
        "plt.figure(figsize= (10 , 6))\r\n",
        "plt.plot(train_log)\r\n",
        "plt.plot(mav , color = 'red')"
      ],
      "execution_count": 35,
      "outputs": [
        {
          "output_type": "execute_result",
          "data": {
            "text/plain": [
              "[<matplotlib.lines.Line2D at 0x7f510d2382b0>]"
            ]
          },
          "metadata": {
            "tags": []
          },
          "execution_count": 35
        },
        {
          "output_type": "display_data",
          "data": {
            "image/png": "[encoded data removed]",
            "text/plain": [
              "<Figure size 720x432 with 1 Axes>"
            ]
          },
          "metadata": {
            "tags": [],
            "needs_background": "light"
          }
        }
      ]
    },
    {
      "cell_type": "code",
      "metadata": {
        "colab": {
          "base_uri": "https://localhost:8080/",
          "height": 619
        },
        "id": "PXow9xWzp1OK",
        "outputId": "2d7a5bd9-75b5-4ea8-f320-6db738bada19"
      },
      "source": [
        "train_log.dropna(inplace= True)\r\n",
        "test_log.dropna(inplace = True)\r\n",
        "\r\n",
        "test_stationarity(train_log)"
      ],
      "execution_count": 36,
      "outputs": [
        {
          "output_type": "display_data",
          "data": {
            "image/png": "[encoded data removed]",
            "text/plain": [
              "<Figure size 720x576 with 1 Axes>"
            ]
          },
          "metadata": {
            "tags": [],
            "needs_background": "light"
          }
        },
        {
          "output_type": "stream",
          "text": [
            "Results of dickey fuller test\n",
            "ADF Test Statistic : -1.7082158129433114\n",
            "p-value : 0.4268844917702149\n",
            "#Lags Used : 7\n",
            "Number of Observations Used : 192\n",
            "Weak evidence against null hypothesis, time series is non-stationary \n"
          ],
          "name": "stdout"
        }
      ]
    },
    {
      "cell_type": "code",
      "metadata": {
        "colab": {
          "base_uri": "https://localhost:8080/",
          "height": 619
        },
        "id": "6jLxgNvzqPH2",
        "outputId": "020b94ce-b095-4b36-89e7-1b61bc4d7b2c"
      },
      "source": [
        "train_log_diff = train_log -mav\r\n",
        "train_log_diff.dropna(inplace = True)\r\n",
        "test_stationarity(train_log_diff)"
      ],
      "execution_count": 37,
      "outputs": [
        {
          "output_type": "display_data",
          "data": {
            "image/png": "[encoded data removed]",
            "text/plain": [
              "<Figure size 720x576 with 1 Axes>"
            ]
          },
          "metadata": {
            "tags": [],
            "needs_background": "light"
          }
        },
        {
          "output_type": "stream",
          "text": [
            "Results of dickey fuller test\n",
            "ADF Test Statistic : -2.7979804302055693\n",
            "p-value : 0.05856282882620621\n",
            "#Lags Used : 7\n",
            "Number of Observations Used : 169\n",
            "Weak evidence against null hypothesis, time series is non-stationary \n"
          ],
          "name": "stdout"
        }
      ]
    },
    {
      "cell_type": "code",
      "metadata": {
        "colab": {
          "base_uri": "https://localhost:8080/"
        },
        "id": "_1Mx2fJuqfyl",
        "outputId": "354eae63-2244-4ec0-9329-64fc77325bf8"
      },
      "source": [
        "#Using auto arima to make predictions using log data\r\n",
        "from pmdarima import auto_arima\r\n",
        "model = auto_arima(train_log, trace = True, error_action = 'ignore', suppress_warnings = True)\r\n",
        "model.fit(train_log)\r\n",
        "predictions = model.predict(n_periods = len(test))\r\n",
        "predictions = pd.DataFrame(predictions,index = test_log.index,columns=['Prediction'])"
      ],
      "execution_count": 38,
      "outputs": [
        {
          "output_type": "stream",
          "text": [
            "Performing stepwise search to minimize aic\n",
            " ARIMA(2,1,2)(0,0,0)[0] intercept   : AIC=-941.971, Time=0.54 sec\n",
            " ARIMA(0,1,0)(0,0,0)[0] intercept   : AIC=-942.920, Time=0.05 sec\n",
            " ARIMA(1,1,0)(0,0,0)[0] intercept   : AIC=-945.416, Time=0.05 sec\n",
            " ARIMA(0,1,1)(0,0,0)[0] intercept   : AIC=-944.935, Time=0.14 sec\n",
            " ARIMA(0,1,0)(0,0,0)[0]             : AIC=-944.920, Time=0.04 sec\n",
            " ARIMA(2,1,0)(0,0,0)[0] intercept   : AIC=-943.688, Time=0.09 sec\n",
            " ARIMA(1,1,1)(0,0,0)[0] intercept   : AIC=-943.536, Time=0.07 sec\n",
            " ARIMA(2,1,1)(0,0,0)[0] intercept   : AIC=-944.777, Time=0.56 sec\n",
            " ARIMA(1,1,0)(0,0,0)[0]             : AIC=-947.415, Time=0.03 sec\n",
            " ARIMA(2,1,0)(0,0,0)[0]             : AIC=-945.688, Time=0.04 sec\n",
            " ARIMA(1,1,1)(0,0,0)[0]             : AIC=-945.535, Time=0.04 sec\n",
            " ARIMA(0,1,1)(0,0,0)[0]             : AIC=-946.935, Time=0.09 sec\n",
            " ARIMA(2,1,1)(0,0,0)[0]             : AIC=-946.777, Time=0.27 sec\n",
            "\n",
            "Best model:  ARIMA(1,1,0)(0,0,0)[0]          \n",
            "Total fit time: 2.035 seconds\n"
          ],
          "name": "stdout"
        }
      ]
    },
    {
      "cell_type": "code",
      "metadata": {
        "colab": {
          "base_uri": "https://localhost:8080/",
          "height": 313
        },
        "id": "JFtzeagCqmMd",
        "outputId": "7abad4bf-4f6d-45b9-d322-57b50ddc3478"
      },
      "source": [
        "plt.plot(train_log , label = 'Train')\r\n",
        "plt.plot(test_log,label = 'Test')\r\n",
        "plt.plot(predictions, label='Prediction')\r\n",
        "plt.title('BSESN Stock Price Prediction')\r\n",
        "plt.xlabel('Time')\r\n",
        "plt.ylabel('Actual Stock Price')"
      ],
      "execution_count": 39,
      "outputs": [
        {
          "output_type": "execute_result",
          "data": {
            "text/plain": [
              "Text(0, 0.5, 'Actual Stock Price')"
            ]
          },
          "metadata": {
            "tags": []
          },
          "execution_count": 39
        },
        {
          "output_type": "display_data",
          "data": {
            "image/png": "[encoded data removed]",
            "text/plain": [
              "<Figure size 432x288 with 1 Axes>"
            ]
          },
          "metadata": {
            "tags": [],
            "needs_background": "light"
          }
        }
      ]
    },
    {
      "cell_type": "code",
      "metadata": {
        "colab": {
          "base_uri": "https://localhost:8080/"
        },
        "id": "rO3ymPjyrXKi",
        "outputId": "2da683b7-efb5-41f2-9064-c28447a77c53"
      },
      "source": [
        "#Calculate Error using RMS(root Mean square)\r\n",
        "rms =  np.sqrt(mean_squared_error(test_log,predictions))\r\n",
        "print(\"RMSE: \", rms)"
      ],
      "execution_count": 40,
      "outputs": [
        {
          "output_type": "stream",
          "text": [
            "RMSE:  0.11713268576668327\n"
          ],
          "name": "stdout"
        }
      ]
    },
    {
      "cell_type": "markdown",
      "metadata": {
        "id": "ctYSojhgr38J"
      },
      "source": [
        "# **TEXT DATA ANALYSIS**"
      ]
    },
    {
      "cell_type": "code",
      "metadata": {
        "colab": {
          "resources": {
            "http://localhost:8080/nbextensions/google.colab/files.js": {
              "data": "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",
              "ok": true,
              "headers": [
                [
                  "content-type",
                  "application/javascript"
                ]
              ],
              "status": 200,
              "status_text": ""
            }
          },
          "base_uri": "https://localhost:8080/",
          "height": 72
        },
        "id": "Nmk9E0DGr1Ty",
        "outputId": "520e00f2-3e17-42e9-fd09-24867474beca"
      },
      "source": [
        "# Uplaod the Text data set https://dataverse.harvard.edu/dataset.xhtml?persistentId=doi:10.7910/DVN/DPQMQH\r\n",
        "from google.colab import files\r\n",
        "uplaod = files.upload()"
      ],
      "execution_count": 42,
      "outputs": [
        {
          "output_type": "display_data",
          "data": {
            "text/html": [
              "\n",
              "     <input type=\"file\" id=\"files-40d326ee-1594-44d7-8e1d-bf51a9b043f2\" name=\"files[]\" multiple disabled\n",
              "        style=\"border:none\" />\n",
              "     <output id=\"result-40d326ee-1594-44d7-8e1d-bf51a9b043f2\">\n",
              "      Upload widget is only available when the cell has been executed in the\n",
              "      current browser session. Please rerun this cell to enable.\n",
              "      </output>\n",
              "      <script src=\"/nbextensions/google.colab/files.js\"></script> "
            ],
            "text/plain": [
              "<IPython.core.display.HTML object>"
            ]
          },
          "metadata": {
            "tags": []
          }
        },
        {
          "output_type": "stream",
          "text": [
            "Saving india-news-headlines.csv to india-news-headlines.csv\n"
          ],
          "name": "stdout"
        }
      ]
    },
    {
      "cell_type": "code",
      "metadata": {
        "colab": {
          "base_uri": "https://localhost:8080/",
          "height": 453
        },
        "id": "MFrdlg4bsLFz",
        "outputId": "a2357dde-1987-4da9-e3b0-0820c26b12c7"
      },
      "source": [
        "cols = ['Date' , 'Category' , 'News']\r\n",
        "df_news =  pd.read_csv('india-news-headlines.csv' , names =  cols)\r\n",
        "df_news"
      ],
      "execution_count": 52,
      "outputs": [
        {
          "output_type": "stream",
          "text": [
            "/usr/local/lib/python3.6/dist-packages/IPython/core/interactiveshell.py:2718: DtypeWarning: Columns (0) have mixed types.Specify dtype option on import or set low_memory=False.\n",
            "  interactivity=interactivity, compiler=compiler, result=result)\n"
          ],
          "name": "stderr"
        },
        {
          "output_type": "execute_result",
          "data": {
            "text/html": [
              "<div>\n",
              "<style scoped>\n",
              "    .dataframe tbody tr th:only-of-type {\n",
              "        vertical-align: middle;\n",
              "    }\n",
              "\n",
              "    .dataframe tbody tr th {\n",
              "        vertical-align: top;\n",
              "    }\n",
              "\n",
              "    .dataframe thead th {\n",
              "        text-align: right;\n",
              "    }\n",
              "</style>\n",
              "<table border=\"1\" class=\"dataframe\">\n",
              "  <thead>\n",
              "    <tr style=\"text-align: right;\">\n",
              "      <th></th>\n",
              "      <th>Date</th>\n",
              "      <th>Category</th>\n",
              "      <th>News</th>\n",
              "    </tr>\n",
              "  </thead>\n",
              "  <tbody>\n",
              "    <tr>\n",
              "      <th>0</th>\n",
              "      <td>publish_date</td>\n",
              "      <td>headline_category</td>\n",
              "      <td>headline_text</td>\n",
              "    </tr>\n",
              "    <tr>\n",
              "      <th>1</th>\n",
              "      <td>20010101</td>\n",
              "      <td>sports.wwe</td>\n",
              "      <td>win over cena satisfying but defeating underta...</td>\n",
              "    </tr>\n",
              "    <tr>\n",
              "      <th>2</th>\n",
              "      <td>20010102</td>\n",
              "      <td>unknown</td>\n",
              "      <td>Status quo will not be disturbed at Ayodhya; s...</td>\n",
              "    </tr>\n",
              "    <tr>\n",
              "      <th>3</th>\n",
              "      <td>20010102</td>\n",
              "      <td>unknown</td>\n",
              "      <td>Fissures in Hurriyat over Pak visit</td>\n",
              "    </tr>\n",
              "    <tr>\n",
              "      <th>4</th>\n",
              "      <td>20010102</td>\n",
              "      <td>unknown</td>\n",
              "      <td>America's unwanted heading for India?</td>\n",
              "    </tr>\n",
              "    <tr>\n",
              "      <th>...</th>\n",
              "      <td>...</td>\n",
              "      <td>...</td>\n",
              "      <td>...</td>\n",
              "    </tr>\n",
              "    <tr>\n",
              "      <th>3297168</th>\n",
              "      <td>20200630</td>\n",
              "      <td>gadgets-news</td>\n",
              "      <td>why tiktok removed 1 65 crore videos in india</td>\n",
              "    </tr>\n",
              "    <tr>\n",
              "      <th>3297169</th>\n",
              "      <td>20200630</td>\n",
              "      <td>entertainment.hindi.bollywood</td>\n",
              "      <td>apurva asrani calls alia bhatts mother soni ra...</td>\n",
              "    </tr>\n",
              "    <tr>\n",
              "      <th>3297170</th>\n",
              "      <td>20200630</td>\n",
              "      <td>entertainment.hindi.bollywood</td>\n",
              "      <td>kangana ranaut gets a doll version of herself ...</td>\n",
              "    </tr>\n",
              "    <tr>\n",
              "      <th>3297171</th>\n",
              "      <td>20200630</td>\n",
              "      <td>entertainment.hindi.bollywood</td>\n",
              "      <td>meezaan jaffrey reminisces his childhood days ...</td>\n",
              "    </tr>\n",
              "    <tr>\n",
              "      <th>3297172</th>\n",
              "      <td>20200630</td>\n",
              "      <td>entertainment.telugu.movies.news</td>\n",
              "      <td>prabhas20 titled as radhe shyam prabhas and po...</td>\n",
              "    </tr>\n",
              "  </tbody>\n",
              "</table>\n",
              "<p>3297173 rows × 3 columns</p>\n",
              "</div>"
            ],
            "text/plain": [
              "                 Date  ...                                               News\n",
              "0        publish_date  ...                                      headline_text\n",
              "1            20010101  ...  win over cena satisfying but defeating underta...\n",
              "2            20010102  ...  Status quo will not be disturbed at Ayodhya; s...\n",
              "3            20010102  ...                Fissures in Hurriyat over Pak visit\n",
              "4            20010102  ...              America's unwanted heading for India?\n",
              "...               ...  ...                                                ...\n",
              "3297168      20200630  ...      why tiktok removed 1 65 crore videos in india\n",
              "3297169      20200630  ...  apurva asrani calls alia bhatts mother soni ra...\n",
              "3297170      20200630  ...  kangana ranaut gets a doll version of herself ...\n",
              "3297171      20200630  ...  meezaan jaffrey reminisces his childhood days ...\n",
              "3297172      20200630  ...  prabhas20 titled as radhe shyam prabhas and po...\n",
              "\n",
              "[3297173 rows x 3 columns]"
            ]
          },
          "metadata": {
            "tags": []
          },
          "execution_count": 52
        }
      ]
    },
    {
      "cell_type": "code",
      "metadata": {
        "colab": {
          "base_uri": "https://localhost:8080/"
        },
        "id": "ih26U1H7uTdp",
        "outputId": "da609070-6e83-4136-8697-9fcbf5aea664"
      },
      "source": [
        "df_news.drop(0, inplace = True)\r\n",
        "df_news.drop('Category', axis = 1, inplace=True)\r\n",
        "df_news.info()"
      ],
      "execution_count": 53,
      "outputs": [
        {
          "output_type": "stream",
          "text": [
            "<class 'pandas.core.frame.DataFrame'>\n",
            "Int64Index: 3297172 entries, 1 to 3297172\n",
            "Data columns (total 2 columns):\n",
            " #   Column  Dtype \n",
            "---  ------  ----- \n",
            " 0   Date    object\n",
            " 1   News    object\n",
            "dtypes: object(2)\n",
            "memory usage: 75.5+ MB\n"
          ],
          "name": "stdout"
        }
      ]
    },
    {
      "cell_type": "code",
      "metadata": {
        "colab": {
          "base_uri": "https://localhost:8080/",
          "height": 359
        },
        "id": "-KbOl_BRulcZ",
        "outputId": "cd0825e5-5ae2-4fc9-de60-4a6ff70cd3b6"
      },
      "source": [
        "#Converting data type of Date column \r\n",
        "df_news['Date'] = pd.to_datetime(df_news['Date'],format= '%Y%m%d')\r\n",
        "df_news.head(10)"
      ],
      "execution_count": 54,
      "outputs": [
        {
          "output_type": "execute_result",
          "data": {
            "text/html": [
              "<div>\n",
              "<style scoped>\n",
              "    .dataframe tbody tr th:only-of-type {\n",
              "        vertical-align: middle;\n",
              "    }\n",
              "\n",
              "    .dataframe tbody tr th {\n",
              "        vertical-align: top;\n",
              "    }\n",
              "\n",
              "    .dataframe thead th {\n",
              "        text-align: right;\n",
              "    }\n",
              "</style>\n",
              "<table border=\"1\" class=\"dataframe\">\n",
              "  <thead>\n",
              "    <tr style=\"text-align: right;\">\n",
              "      <th></th>\n",
              "      <th>Date</th>\n",
              "      <th>News</th>\n",
              "    </tr>\n",
              "  </thead>\n",
              "  <tbody>\n",
              "    <tr>\n",
              "      <th>1</th>\n",
              "      <td>2001-01-01</td>\n",
              "      <td>win over cena satisfying but defeating underta...</td>\n",
              "    </tr>\n",
              "    <tr>\n",
              "      <th>2</th>\n",
              "      <td>2001-01-02</td>\n",
              "      <td>Status quo will not be disturbed at Ayodhya; s...</td>\n",
              "    </tr>\n",
              "    <tr>\n",
              "      <th>3</th>\n",
              "      <td>2001-01-02</td>\n",
              "      <td>Fissures in Hurriyat over Pak visit</td>\n",
              "    </tr>\n",
              "    <tr>\n",
              "      <th>4</th>\n",
              "      <td>2001-01-02</td>\n",
              "      <td>America's unwanted heading for India?</td>\n",
              "    </tr>\n",
              "    <tr>\n",
              "      <th>5</th>\n",
              "      <td>2001-01-02</td>\n",
              "      <td>For bigwigs; it is destination Goa</td>\n",
              "    </tr>\n",
              "    <tr>\n",
              "      <th>6</th>\n",
              "      <td>2001-01-02</td>\n",
              "      <td>Extra buses to clear tourist traffic</td>\n",
              "    </tr>\n",
              "    <tr>\n",
              "      <th>7</th>\n",
              "      <td>2001-01-02</td>\n",
              "      <td>Dilute the power of transfers; says Riberio</td>\n",
              "    </tr>\n",
              "    <tr>\n",
              "      <th>8</th>\n",
              "      <td>2001-01-02</td>\n",
              "      <td>Focus shifts to teaching of Hindi</td>\n",
              "    </tr>\n",
              "    <tr>\n",
              "      <th>9</th>\n",
              "      <td>2001-01-02</td>\n",
              "      <td>IT will become compulsory in schools</td>\n",
              "    </tr>\n",
              "    <tr>\n",
              "      <th>10</th>\n",
              "      <td>2001-01-02</td>\n",
              "      <td>Move to stop freedom fighters' pension flayed</td>\n",
              "    </tr>\n",
              "  </tbody>\n",
              "</table>\n",
              "</div>"
            ],
            "text/plain": [
              "         Date                                               News\n",
              "1  2001-01-01  win over cena satisfying but defeating underta...\n",
              "2  2001-01-02  Status quo will not be disturbed at Ayodhya; s...\n",
              "3  2001-01-02                Fissures in Hurriyat over Pak visit\n",
              "4  2001-01-02              America's unwanted heading for India?\n",
              "5  2001-01-02                 For bigwigs; it is destination Goa\n",
              "6  2001-01-02               Extra buses to clear tourist traffic\n",
              "7  2001-01-02        Dilute the power of transfers; says Riberio\n",
              "8  2001-01-02                  Focus shifts to teaching of Hindi\n",
              "9  2001-01-02               IT will become compulsory in schools\n",
              "10 2001-01-02      Move to stop freedom fighters' pension flayed"
            ]
          },
          "metadata": {
            "tags": []
          },
          "execution_count": 54
        }
      ]
    },
    {
      "cell_type": "code",
      "metadata": {
        "colab": {
          "base_uri": "https://localhost:8080/",
          "height": 419
        },
        "id": "FmBjFLBnuslq",
        "outputId": "6abc5f03-f318-4396-de9e-8da963ac8655"
      },
      "source": [
        "#Grouping the headlines for each day\r\n",
        "df_news['News'] = df_news.groupby(['Date']).transform(lambda x : ' '.join(x)) \r\n",
        "df_news = df_news.drop_duplicates() \r\n",
        "df_news.reset_index(inplace = True, drop = True)\r\n",
        "df_news"
      ],
      "execution_count": 55,
      "outputs": [
        {
          "output_type": "execute_result",
          "data": {
            "text/html": [
              "<div>\n",
              "<style scoped>\n",
              "    .dataframe tbody tr th:only-of-type {\n",
              "        vertical-align: middle;\n",
              "    }\n",
              "\n",
              "    .dataframe tbody tr th {\n",
              "        vertical-align: top;\n",
              "    }\n",
              "\n",
              "    .dataframe thead th {\n",
              "        text-align: right;\n",
              "    }\n",
              "</style>\n",
              "<table border=\"1\" class=\"dataframe\">\n",
              "  <thead>\n",
              "    <tr style=\"text-align: right;\">\n",
              "      <th></th>\n",
              "      <th>Date</th>\n",
              "      <th>News</th>\n",
              "    </tr>\n",
              "  </thead>\n",
              "  <tbody>\n",
              "    <tr>\n",
              "      <th>0</th>\n",
              "      <td>2001-01-01</td>\n",
              "      <td>win over cena satisfying but defeating underta...</td>\n",
              "    </tr>\n",
              "    <tr>\n",
              "      <th>1</th>\n",
              "      <td>2001-01-02</td>\n",
              "      <td>Status quo will not be disturbed at Ayodhya; s...</td>\n",
              "    </tr>\n",
              "    <tr>\n",
              "      <th>2</th>\n",
              "      <td>2001-01-03</td>\n",
              "      <td>Powerless north India gropes in the dark Think...</td>\n",
              "    </tr>\n",
              "    <tr>\n",
              "      <th>3</th>\n",
              "      <td>2001-01-04</td>\n",
              "      <td>The string that pulled Stephen Hawking to Indi...</td>\n",
              "    </tr>\n",
              "    <tr>\n",
              "      <th>4</th>\n",
              "      <td>2001-01-05</td>\n",
              "      <td>Light combat craft takes India into club class...</td>\n",
              "    </tr>\n",
              "    <tr>\n",
              "      <th>...</th>\n",
              "      <td>...</td>\n",
              "      <td>...</td>\n",
              "    </tr>\n",
              "    <tr>\n",
              "      <th>7075</th>\n",
              "      <td>2020-06-26</td>\n",
              "      <td>Containment zone residents slam high prices ch...</td>\n",
              "    </tr>\n",
              "    <tr>\n",
              "      <th>7076</th>\n",
              "      <td>2020-06-27</td>\n",
              "      <td>like me i wont let you have a toxic relationsh...</td>\n",
              "    </tr>\n",
              "    <tr>\n",
              "      <th>7077</th>\n",
              "      <td>2020-06-28</td>\n",
              "      <td>Atanu Ghosh plans to rewrite old scripts to ma...</td>\n",
              "    </tr>\n",
              "    <tr>\n",
              "      <th>7078</th>\n",
              "      <td>2020-06-29</td>\n",
              "      <td>6 hot and stylish bikini looks of Katrina Kaif...</td>\n",
              "    </tr>\n",
              "    <tr>\n",
              "      <th>7079</th>\n",
              "      <td>2020-06-30</td>\n",
              "      <td>Detective Byomkesh Bakshy! Edge of Tomorrow Fi...</td>\n",
              "    </tr>\n",
              "  </tbody>\n",
              "</table>\n",
              "<p>7080 rows × 2 columns</p>\n",
              "</div>"
            ],
            "text/plain": [
              "           Date                                               News\n",
              "0    2001-01-01  win over cena satisfying but defeating underta...\n",
              "1    2001-01-02  Status quo will not be disturbed at Ayodhya; s...\n",
              "2    2001-01-03  Powerless north India gropes in the dark Think...\n",
              "3    2001-01-04  The string that pulled Stephen Hawking to Indi...\n",
              "4    2001-01-05  Light combat craft takes India into club class...\n",
              "...         ...                                                ...\n",
              "7075 2020-06-26  Containment zone residents slam high prices ch...\n",
              "7076 2020-06-27  like me i wont let you have a toxic relationsh...\n",
              "7077 2020-06-28  Atanu Ghosh plans to rewrite old scripts to ma...\n",
              "7078 2020-06-29  6 hot and stylish bikini looks of Katrina Kaif...\n",
              "7079 2020-06-30  Detective Byomkesh Bakshy! Edge of Tomorrow Fi...\n",
              "\n",
              "[7080 rows x 2 columns]"
            ]
          },
          "metadata": {
            "tags": []
          },
          "execution_count": 55
        }
      ]
    },
    {
      "cell_type": "code",
      "metadata": {
        "colab": {
          "base_uri": "https://localhost:8080/"
        },
        "id": "ZN58ULRxuxvg",
        "outputId": "4106424b-316c-492a-80ad-b6e2f176d919"
      },
      "source": [
        "df_news['News']"
      ],
      "execution_count": 56,
      "outputs": [
        {
          "output_type": "execute_result",
          "data": {
            "text/plain": [
              "0       win over cena satisfying but defeating underta...\n",
              "1       Status quo will not be disturbed at Ayodhya; s...\n",
              "2       Powerless north India gropes in the dark Think...\n",
              "3       The string that pulled Stephen Hawking to Indi...\n",
              "4       Light combat craft takes India into club class...\n",
              "                              ...                        \n",
              "7075    Containment zone residents slam high prices ch...\n",
              "7076    like me i wont let you have a toxic relationsh...\n",
              "7077    Atanu Ghosh plans to rewrite old scripts to ma...\n",
              "7078    6 hot and stylish bikini looks of Katrina Kaif...\n",
              "7079    Detective Byomkesh Bakshy! Edge of Tomorrow Fi...\n",
              "Name: News, Length: 7080, dtype: object"
            ]
          },
          "metadata": {
            "tags": []
          },
          "execution_count": 56
        }
      ]
    },
    {
      "cell_type": "code",
      "metadata": {
        "id": "LtSLj1BAu1-W"
      },
      "source": [
        "#Cleaning Headlines\r\n",
        "c = []\r\n",
        "ps = PorterStemmer()\r\n",
        "for i in range(0 , len(df_news['News'])):\r\n",
        "    news = re.sub('[^a-zA-Z]',' ',df_news['News'][i])\r\n",
        "    news = news.lower()\r\n",
        "    news = news.split()\r\n",
        "    news = [ps.stem(word) for word in news if not word in set(stopwords.words('english'))]\r\n",
        "    news=' '.join(news)\r\n",
        "    c.append(news)"
      ],
      "execution_count": 67,
      "outputs": []
    },
    {
      "cell_type": "code",
      "metadata": {
        "colab": {
          "base_uri": "https://localhost:8080/",
          "height": 521
        },
        "id": "YTB0Ss_RvK5L",
        "outputId": "e37c873a-7f36-4c39-d0f2-a6dabb94e8d0"
      },
      "source": [
        "df_news['News'] = pd.Series(c)\r\n",
        "df_news"
      ],
      "execution_count": 68,
      "outputs": [
        {
          "output_type": "stream",
          "text": [
            "/usr/local/lib/python3.6/dist-packages/ipykernel_launcher.py:1: SettingWithCopyWarning: \n",
            "A value is trying to be set on a copy of a slice from a DataFrame.\n",
            "Try using .loc[row_indexer,col_indexer] = value instead\n",
            "\n",
            "See the caveats in the documentation: https://pandas.pydata.org/pandas-docs/stable/user_guide/indexing.html#returning-a-view-versus-a-copy\n",
            "  \"\"\"Entry point for launching an IPython kernel.\n"
          ],
          "name": "stderr"
        },
        {
          "output_type": "execute_result",
          "data": {
            "text/html": [
              "<div>\n",
              "<style scoped>\n",
              "    .dataframe tbody tr th:only-of-type {\n",
              "        vertical-align: middle;\n",
              "    }\n",
              "\n",
              "    .dataframe tbody tr th {\n",
              "        vertical-align: top;\n",
              "    }\n",
              "\n",
              "    .dataframe thead th {\n",
              "        text-align: right;\n",
              "    }\n",
              "</style>\n",
              "<table border=\"1\" class=\"dataframe\">\n",
              "  <thead>\n",
              "    <tr style=\"text-align: right;\">\n",
              "      <th></th>\n",
              "      <th>Date</th>\n",
              "      <th>News</th>\n",
              "    </tr>\n",
              "  </thead>\n",
              "  <tbody>\n",
              "    <tr>\n",
              "      <th>0</th>\n",
              "      <td>2001-01-01</td>\n",
              "      <td>win cena satisfi defeat undertak bigger roman ...</td>\n",
              "    </tr>\n",
              "    <tr>\n",
              "      <th>1</th>\n",
              "      <td>2001-01-02</td>\n",
              "      <td>statu quo disturb ayodhya say vajpaye fissur h...</td>\n",
              "    </tr>\n",
              "    <tr>\n",
              "      <th>2</th>\n",
              "      <td>2001-01-03</td>\n",
              "      <td>powerless north india grope dark think laxman ...</td>\n",
              "    </tr>\n",
              "    <tr>\n",
              "      <th>3</th>\n",
              "      <td>2001-01-04</td>\n",
              "      <td>string pull stephen hawk india vajpaye give bi...</td>\n",
              "    </tr>\n",
              "    <tr>\n",
              "      <th>4</th>\n",
              "      <td>2001-01-05</td>\n",
              "      <td>light combat craft take india club class hawk ...</td>\n",
              "    </tr>\n",
              "    <tr>\n",
              "      <th>...</th>\n",
              "      <td>...</td>\n",
              "      <td>...</td>\n",
              "    </tr>\n",
              "    <tr>\n",
              "      <th>7075</th>\n",
              "      <td>2020-06-26</td>\n",
              "      <td>contain zone resid slam high price charg veget...</td>\n",
              "    </tr>\n",
              "    <tr>\n",
              "      <th>7076</th>\n",
              "      <td>2020-06-27</td>\n",
              "      <td>like wont let toxic relationship food major ra...</td>\n",
              "    </tr>\n",
              "    <tr>\n",
              "      <th>7077</th>\n",
              "      <td>2020-06-28</td>\n",
              "      <td>atanu ghosh plan rewrit old script make relev ...</td>\n",
              "    </tr>\n",
              "    <tr>\n",
              "      <th>7078</th>\n",
              "      <td>2020-06-29</td>\n",
              "      <td>hot stylish bikini look katrina kaif anna eden...</td>\n",
              "    </tr>\n",
              "    <tr>\n",
              "      <th>7079</th>\n",
              "      <td>2020-06-30</td>\n",
              "      <td>detect byomkesh bakshi edg tomorrow first look...</td>\n",
              "    </tr>\n",
              "  </tbody>\n",
              "</table>\n",
              "<p>7080 rows × 2 columns</p>\n",
              "</div>"
            ],
            "text/plain": [
              "           Date                                               News\n",
              "0    2001-01-01  win cena satisfi defeat undertak bigger roman ...\n",
              "1    2001-01-02  statu quo disturb ayodhya say vajpaye fissur h...\n",
              "2    2001-01-03  powerless north india grope dark think laxman ...\n",
              "3    2001-01-04  string pull stephen hawk india vajpaye give bi...\n",
              "4    2001-01-05  light combat craft take india club class hawk ...\n",
              "...         ...                                                ...\n",
              "7075 2020-06-26  contain zone resid slam high price charg veget...\n",
              "7076 2020-06-27  like wont let toxic relationship food major ra...\n",
              "7077 2020-06-28  atanu ghosh plan rewrit old script make relev ...\n",
              "7078 2020-06-29  hot stylish bikini look katrina kaif anna eden...\n",
              "7079 2020-06-30  detect byomkesh bakshi edg tomorrow first look...\n",
              "\n",
              "[7080 rows x 2 columns]"
            ]
          },
          "metadata": {
            "tags": []
          },
          "execution_count": 68
        }
      ]
    },
    {
      "cell_type": "code",
      "metadata": {
        "id": "Px2JF4lBvOxJ"
      },
      "source": [
        "#Functions to get the subjectivity and polarity\r\n",
        "def getSubjectivity(text):\r\n",
        "  return TextBlob(text).sentiment.subjectivity\r\n",
        "\r\n",
        "def getPolarity(text):\r\n",
        "  return  TextBlob(text).sentiment.polarity"
      ],
      "execution_count": 69,
      "outputs": []
    },
    {
      "cell_type": "code",
      "metadata": {
        "colab": {
          "base_uri": "https://localhost:8080/",
          "height": 623
        },
        "id": "byRJDcg2vSd4",
        "outputId": "a182b308-70bb-4dc8-873e-bc8c862cd602"
      },
      "source": [
        "#Adding subjectivity and polarity columns\r\n",
        "df_news['Subjectivity'] = df_news['News'].apply(getSubjectivity)\r\n",
        "df_news['Polarity'] = df_news['News'].apply(getPolarity)\r\n",
        "df_news"
      ],
      "execution_count": 70,
      "outputs": [
        {
          "output_type": "stream",
          "text": [
            "/usr/local/lib/python3.6/dist-packages/ipykernel_launcher.py:2: SettingWithCopyWarning: \n",
            "A value is trying to be set on a copy of a slice from a DataFrame.\n",
            "Try using .loc[row_indexer,col_indexer] = value instead\n",
            "\n",
            "See the caveats in the documentation: https://pandas.pydata.org/pandas-docs/stable/user_guide/indexing.html#returning-a-view-versus-a-copy\n",
            "  \n",
            "/usr/local/lib/python3.6/dist-packages/ipykernel_launcher.py:3: SettingWithCopyWarning: \n",
            "A value is trying to be set on a copy of a slice from a DataFrame.\n",
            "Try using .loc[row_indexer,col_indexer] = value instead\n",
            "\n",
            "See the caveats in the documentation: https://pandas.pydata.org/pandas-docs/stable/user_guide/indexing.html#returning-a-view-versus-a-copy\n",
            "  This is separate from the ipykernel package so we can avoid doing imports until\n"
          ],
          "name": "stderr"
        },
        {
          "output_type": "execute_result",
          "data": {
            "text/html": [
              "<div>\n",
              "<style scoped>\n",
              "    .dataframe tbody tr th:only-of-type {\n",
              "        vertical-align: middle;\n",
              "    }\n",
              "\n",
              "    .dataframe tbody tr th {\n",
              "        vertical-align: top;\n",
              "    }\n",
              "\n",
              "    .dataframe thead th {\n",
              "        text-align: right;\n",
              "    }\n",
              "</style>\n",
              "<table border=\"1\" class=\"dataframe\">\n",
              "  <thead>\n",
              "    <tr style=\"text-align: right;\">\n",
              "      <th></th>\n",
              "      <th>Date</th>\n",
              "      <th>News</th>\n",
              "      <th>Subjectivity</th>\n",
              "      <th>Polarity</th>\n",
              "    </tr>\n",
              "  </thead>\n",
              "  <tbody>\n",
              "    <tr>\n",
              "      <th>0</th>\n",
              "      <td>2001-01-01</td>\n",
              "      <td>win cena satisfi defeat undertak bigger roman ...</td>\n",
              "      <td>0.450000</td>\n",
              "      <td>0.400000</td>\n",
              "    </tr>\n",
              "    <tr>\n",
              "      <th>1</th>\n",
              "      <td>2001-01-02</td>\n",
              "      <td>statu quo disturb ayodhya say vajpaye fissur h...</td>\n",
              "      <td>0.298148</td>\n",
              "      <td>0.099074</td>\n",
              "    </tr>\n",
              "    <tr>\n",
              "      <th>2</th>\n",
              "      <td>2001-01-03</td>\n",
              "      <td>powerless north india grope dark think laxman ...</td>\n",
              "      <td>0.429167</td>\n",
              "      <td>0.025000</td>\n",
              "    </tr>\n",
              "    <tr>\n",
              "      <th>3</th>\n",
              "      <td>2001-01-04</td>\n",
              "      <td>string pull stephen hawk india vajpaye give bi...</td>\n",
              "      <td>0.475140</td>\n",
              "      <td>0.032481</td>\n",
              "    </tr>\n",
              "    <tr>\n",
              "      <th>4</th>\n",
              "      <td>2001-01-05</td>\n",
              "      <td>light combat craft take india club class hawk ...</td>\n",
              "      <td>0.458412</td>\n",
              "      <td>0.296404</td>\n",
              "    </tr>\n",
              "    <tr>\n",
              "      <th>...</th>\n",
              "      <td>...</td>\n",
              "      <td>...</td>\n",
              "      <td>...</td>\n",
              "      <td>...</td>\n",
              "    </tr>\n",
              "    <tr>\n",
              "      <th>7075</th>\n",
              "      <td>2020-06-26</td>\n",
              "      <td>contain zone resid slam high price charg veget...</td>\n",
              "      <td>0.330257</td>\n",
              "      <td>0.066958</td>\n",
              "    </tr>\n",
              "    <tr>\n",
              "      <th>7076</th>\n",
              "      <td>2020-06-27</td>\n",
              "      <td>like wont let toxic relationship food major ra...</td>\n",
              "      <td>0.372264</td>\n",
              "      <td>0.064784</td>\n",
              "    </tr>\n",
              "    <tr>\n",
              "      <th>7077</th>\n",
              "      <td>2020-06-28</td>\n",
              "      <td>atanu ghosh plan rewrit old script make relev ...</td>\n",
              "      <td>0.378165</td>\n",
              "      <td>0.054209</td>\n",
              "    </tr>\n",
              "    <tr>\n",
              "      <th>7078</th>\n",
              "      <td>2020-06-29</td>\n",
              "      <td>hot stylish bikini look katrina kaif anna eden...</td>\n",
              "      <td>0.373210</td>\n",
              "      <td>0.060782</td>\n",
              "    </tr>\n",
              "    <tr>\n",
              "      <th>7079</th>\n",
              "      <td>2020-06-30</td>\n",
              "      <td>detect byomkesh bakshi edg tomorrow first look...</td>\n",
              "      <td>0.349361</td>\n",
              "      <td>0.059465</td>\n",
              "    </tr>\n",
              "  </tbody>\n",
              "</table>\n",
              "<p>7080 rows × 4 columns</p>\n",
              "</div>"
            ],
            "text/plain": [
              "           Date  ...  Polarity\n",
              "0    2001-01-01  ...  0.400000\n",
              "1    2001-01-02  ...  0.099074\n",
              "2    2001-01-03  ...  0.025000\n",
              "3    2001-01-04  ...  0.032481\n",
              "4    2001-01-05  ...  0.296404\n",
              "...         ...  ...       ...\n",
              "7075 2020-06-26  ...  0.066958\n",
              "7076 2020-06-27  ...  0.064784\n",
              "7077 2020-06-28  ...  0.054209\n",
              "7078 2020-06-29  ...  0.060782\n",
              "7079 2020-06-30  ...  0.059465\n",
              "\n",
              "[7080 rows x 4 columns]"
            ]
          },
          "metadata": {
            "tags": []
          },
          "execution_count": 70
        }
      ]
    },
    {
      "cell_type": "code",
      "metadata": {
        "colab": {
          "base_uri": "https://localhost:8080/",
          "height": 388
        },
        "id": "XlPRzYZXvXOX",
        "outputId": "2f453b33-8765-417a-ade3-00856cd696c6"
      },
      "source": [
        "plt.figure(figsize = (10,6))\r\n",
        "df_news['Polarity'].hist(color = 'purple')"
      ],
      "execution_count": 71,
      "outputs": [
        {
          "output_type": "execute_result",
          "data": {
            "text/plain": [
              "<matplotlib.axes._subplots.AxesSubplot at 0x7f50b09688d0>"
            ]
          },
          "metadata": {
            "tags": []
          },
          "execution_count": 71
        },
        {
          "output_type": "display_data",
          "data": {
            "image/png": "[encoded data removed]",
            "text/plain": [
              "<Figure size 720x432 with 1 Axes>"
            ]
          },
          "metadata": {
            "tags": [],
            "needs_background": "light"
          }
        }
      ]
    },
    {
      "cell_type": "code",
      "metadata": {
        "colab": {
          "base_uri": "https://localhost:8080/",
          "height": 388
        },
        "id": "PSplOeLHvY1y",
        "outputId": "9e2b93e1-e264-42ac-e1c9-f424ea466f6b"
      },
      "source": [
        "plt.figure(figsize = (10,6))\r\n",
        "df_news['Subjectivity'].hist(color = 'blue')"
      ],
      "execution_count": 72,
      "outputs": [
        {
          "output_type": "execute_result",
          "data": {
            "text/plain": [
              "<matplotlib.axes._subplots.AxesSubplot at 0x7f50b09c16a0>"
            ]
          },
          "metadata": {
            "tags": []
          },
          "execution_count": 72
        },
        {
          "output_type": "display_data",
          "data": {
            "image/png": "[encoded data removed]",
            "text/plain": [
              "<Figure size 720x432 with 1 Axes>"
            ]
          },
          "metadata": {
            "tags": [],
            "needs_background": "light"
          }
        }
      ]
    },
    {
      "cell_type": "code",
      "metadata": {
        "colab": {
          "base_uri": "https://localhost:8080/",
          "height": 827
        },
        "id": "5OHXGZp8vcQL",
        "outputId": "e2b0a128-4f9a-48d3-ad5b-a4d8106fa5da"
      },
      "source": [
        "#Adding sentiment score to df_news\r\n",
        "sia = SentimentIntensityAnalyzer()\r\n",
        "\r\n",
        "df_news['Compound'] = [sia.polarity_scores(v)['compound'] for v in df_news['News']]\r\n",
        "df_news['Negative'] = [sia.polarity_scores(v)['neg'] for v in df_news['News']]\r\n",
        "df_news['Neutral'] = [sia.polarity_scores(v)['neu'] for v in df_news['News']]\r\n",
        "df_news['Positive'] = [sia.polarity_scores(v)['pos'] for v in df_news['News']]\r\n",
        "df_news"
      ],
      "execution_count": 74,
      "outputs": [
        {
          "output_type": "stream",
          "text": [
            "/usr/local/lib/python3.6/dist-packages/ipykernel_launcher.py:4: SettingWithCopyWarning: \n",
            "A value is trying to be set on a copy of a slice from a DataFrame.\n",
            "Try using .loc[row_indexer,col_indexer] = value instead\n",
            "\n",
            "See the caveats in the documentation: https://pandas.pydata.org/pandas-docs/stable/user_guide/indexing.html#returning-a-view-versus-a-copy\n",
            "  after removing the cwd from sys.path.\n",
            "/usr/local/lib/python3.6/dist-packages/ipykernel_launcher.py:5: SettingWithCopyWarning: \n",
            "A value is trying to be set on a copy of a slice from a DataFrame.\n",
            "Try using .loc[row_indexer,col_indexer] = value instead\n",
            "\n",
            "See the caveats in the documentation: https://pandas.pydata.org/pandas-docs/stable/user_guide/indexing.html#returning-a-view-versus-a-copy\n",
            "  \"\"\"\n",
            "/usr/local/lib/python3.6/dist-packages/ipykernel_launcher.py:6: SettingWithCopyWarning: \n",
            "A value is trying to be set on a copy of a slice from a DataFrame.\n",
            "Try using .loc[row_indexer,col_indexer] = value instead\n",
            "\n",
            "See the caveats in the documentation: https://pandas.pydata.org/pandas-docs/stable/user_guide/indexing.html#returning-a-view-versus-a-copy\n",
            "  \n",
            "/usr/local/lib/python3.6/dist-packages/ipykernel_launcher.py:7: SettingWithCopyWarning: \n",
            "A value is trying to be set on a copy of a slice from a DataFrame.\n",
            "Try using .loc[row_indexer,col_indexer] = value instead\n",
            "\n",
            "See the caveats in the documentation: https://pandas.pydata.org/pandas-docs/stable/user_guide/indexing.html#returning-a-view-versus-a-copy\n",
            "  import sys\n"
          ],
          "name": "stderr"
        },
        {
          "output_type": "execute_result",
          "data": {
            "text/html": [
              "<div>\n",
              "<style scoped>\n",
              "    .dataframe tbody tr th:only-of-type {\n",
              "        vertical-align: middle;\n",
              "    }\n",
              "\n",
              "    .dataframe tbody tr th {\n",
              "        vertical-align: top;\n",
              "    }\n",
              "\n",
              "    .dataframe thead th {\n",
              "        text-align: right;\n",
              "    }\n",
              "</style>\n",
              "<table border=\"1\" class=\"dataframe\">\n",
              "  <thead>\n",
              "    <tr style=\"text-align: right;\">\n",
              "      <th></th>\n",
              "      <th>Date</th>\n",
              "      <th>News</th>\n",
              "      <th>Subjectivity</th>\n",
              "      <th>Polarity</th>\n",
              "      <th>Compound</th>\n",
              "      <th>Negative</th>\n",
              "      <th>Neutral</th>\n",
              "      <th>Positive</th>\n",
              "    </tr>\n",
              "  </thead>\n",
              "  <tbody>\n",
              "    <tr>\n",
              "      <th>0</th>\n",
              "      <td>2001-01-01</td>\n",
              "      <td>win cena satisfi defeat undertak bigger roman ...</td>\n",
              "      <td>0.450000</td>\n",
              "      <td>0.400000</td>\n",
              "      <td>0.2023</td>\n",
              "      <td>0.234</td>\n",
              "      <td>0.469</td>\n",
              "      <td>0.297</td>\n",
              "    </tr>\n",
              "    <tr>\n",
              "      <th>1</th>\n",
              "      <td>2001-01-02</td>\n",
              "      <td>statu quo disturb ayodhya say vajpaye fissur h...</td>\n",
              "      <td>0.298148</td>\n",
              "      <td>0.099074</td>\n",
              "      <td>-0.8555</td>\n",
              "      <td>0.125</td>\n",
              "      <td>0.773</td>\n",
              "      <td>0.102</td>\n",
              "    </tr>\n",
              "    <tr>\n",
              "      <th>2</th>\n",
              "      <td>2001-01-03</td>\n",
              "      <td>powerless north india grope dark think laxman ...</td>\n",
              "      <td>0.429167</td>\n",
              "      <td>0.025000</td>\n",
              "      <td>-0.5994</td>\n",
              "      <td>0.132</td>\n",
              "      <td>0.755</td>\n",
              "      <td>0.113</td>\n",
              "    </tr>\n",
              "    <tr>\n",
              "      <th>3</th>\n",
              "      <td>2001-01-04</td>\n",
              "      <td>string pull stephen hawk india vajpaye give bi...</td>\n",
              "      <td>0.475140</td>\n",
              "      <td>0.032481</td>\n",
              "      <td>0.9169</td>\n",
              "      <td>0.099</td>\n",
              "      <td>0.791</td>\n",
              "      <td>0.110</td>\n",
              "    </tr>\n",
              "    <tr>\n",
              "      <th>4</th>\n",
              "      <td>2001-01-05</td>\n",
              "      <td>light combat craft take india club class hawk ...</td>\n",
              "      <td>0.458412</td>\n",
              "      <td>0.296404</td>\n",
              "      <td>-0.3612</td>\n",
              "      <td>0.171</td>\n",
              "      <td>0.659</td>\n",
              "      <td>0.170</td>\n",
              "    </tr>\n",
              "    <tr>\n",
              "      <th>...</th>\n",
              "      <td>...</td>\n",
              "      <td>...</td>\n",
              "      <td>...</td>\n",
              "      <td>...</td>\n",
              "      <td>...</td>\n",
              "      <td>...</td>\n",
              "      <td>...</td>\n",
              "      <td>...</td>\n",
              "    </tr>\n",
              "    <tr>\n",
              "      <th>7075</th>\n",
              "      <td>2020-06-26</td>\n",
              "      <td>contain zone resid slam high price charg veget...</td>\n",
              "      <td>0.330257</td>\n",
              "      <td>0.066958</td>\n",
              "      <td>-0.9998</td>\n",
              "      <td>0.142</td>\n",
              "      <td>0.789</td>\n",
              "      <td>0.069</td>\n",
              "    </tr>\n",
              "    <tr>\n",
              "      <th>7076</th>\n",
              "      <td>2020-06-27</td>\n",
              "      <td>like wont let toxic relationship food major ra...</td>\n",
              "      <td>0.372264</td>\n",
              "      <td>0.064784</td>\n",
              "      <td>-0.9998</td>\n",
              "      <td>0.139</td>\n",
              "      <td>0.790</td>\n",
              "      <td>0.070</td>\n",
              "    </tr>\n",
              "    <tr>\n",
              "      <th>7077</th>\n",
              "      <td>2020-06-28</td>\n",
              "      <td>atanu ghosh plan rewrit old script make relev ...</td>\n",
              "      <td>0.378165</td>\n",
              "      <td>0.054209</td>\n",
              "      <td>-0.9998</td>\n",
              "      <td>0.136</td>\n",
              "      <td>0.800</td>\n",
              "      <td>0.064</td>\n",
              "    </tr>\n",
              "    <tr>\n",
              "      <th>7078</th>\n",
              "      <td>2020-06-29</td>\n",
              "      <td>hot stylish bikini look katrina kaif anna eden...</td>\n",
              "      <td>0.373210</td>\n",
              "      <td>0.060782</td>\n",
              "      <td>-0.9998</td>\n",
              "      <td>0.130</td>\n",
              "      <td>0.800</td>\n",
              "      <td>0.070</td>\n",
              "    </tr>\n",
              "    <tr>\n",
              "      <th>7079</th>\n",
              "      <td>2020-06-30</td>\n",
              "      <td>detect byomkesh bakshi edg tomorrow first look...</td>\n",
              "      <td>0.349361</td>\n",
              "      <td>0.059465</td>\n",
              "      <td>-0.9999</td>\n",
              "      <td>0.134</td>\n",
              "      <td>0.818</td>\n",
              "      <td>0.048</td>\n",
              "    </tr>\n",
              "  </tbody>\n",
              "</table>\n",
              "<p>7080 rows × 8 columns</p>\n",
              "</div>"
            ],
            "text/plain": [
              "           Date  ... Positive\n",
              "0    2001-01-01  ...    0.297\n",
              "1    2001-01-02  ...    0.102\n",
              "2    2001-01-03  ...    0.113\n",
              "3    2001-01-04  ...    0.110\n",
              "4    2001-01-05  ...    0.170\n",
              "...         ...  ...      ...\n",
              "7075 2020-06-26  ...    0.069\n",
              "7076 2020-06-27  ...    0.070\n",
              "7077 2020-06-28  ...    0.064\n",
              "7078 2020-06-29  ...    0.070\n",
              "7079 2020-06-30  ...    0.048\n",
              "\n",
              "[7080 rows x 8 columns]"
            ]
          },
          "metadata": {
            "tags": []
          },
          "execution_count": 74
        }
      ]
    },
    {
      "cell_type": "code",
      "metadata": {
        "colab": {
          "base_uri": "https://localhost:8080/",
          "height": 419
        },
        "id": "UCwZFos-vgVt",
        "outputId": "77056ce1-2f09-49a3-f314-eb62ebb29fac"
      },
      "source": [
        "df_merge = pd.merge(df_prices, df_news, how='inner', on='Date')\r\n",
        "df_merge"
      ],
      "execution_count": 78,
      "outputs": [
        {
          "output_type": "execute_result",
          "data": {
            "text/html": [
              "<div>\n",
              "<style scoped>\n",
              "    .dataframe tbody tr th:only-of-type {\n",
              "        vertical-align: middle;\n",
              "    }\n",
              "\n",
              "    .dataframe tbody tr th {\n",
              "        vertical-align: top;\n",
              "    }\n",
              "\n",
              "    .dataframe thead th {\n",
              "        text-align: right;\n",
              "    }\n",
              "</style>\n",
              "<table border=\"1\" class=\"dataframe\">\n",
              "  <thead>\n",
              "    <tr style=\"text-align: right;\">\n",
              "      <th></th>\n",
              "      <th>Date</th>\n",
              "      <th>Open</th>\n",
              "      <th>High</th>\n",
              "      <th>Low</th>\n",
              "      <th>Close</th>\n",
              "      <th>Adj Close</th>\n",
              "      <th>Volume</th>\n",
              "      <th>News</th>\n",
              "      <th>Subjectivity</th>\n",
              "      <th>Polarity</th>\n",
              "      <th>Compound</th>\n",
              "      <th>Negative</th>\n",
              "      <th>Neutral</th>\n",
              "      <th>Positive</th>\n",
              "    </tr>\n",
              "  </thead>\n",
              "  <tbody>\n",
              "    <tr>\n",
              "      <th>0</th>\n",
              "      <td>2020-01-20</td>\n",
              "      <td>42263.000000</td>\n",
              "      <td>42273.871094</td>\n",
              "      <td>41503.371094</td>\n",
              "      <td>41528.910156</td>\n",
              "      <td>41528.910156</td>\n",
              "      <td>7500.0</td>\n",
              "      <td>horoscop today januari check astrolog predict ...</td>\n",
              "      <td>0.377693</td>\n",
              "      <td>0.068002</td>\n",
              "      <td>-0.9999</td>\n",
              "      <td>0.160</td>\n",
              "      <td>0.766</td>\n",
              "      <td>0.074</td>\n",
              "    </tr>\n",
              "    <tr>\n",
              "      <th>1</th>\n",
              "      <td>2020-01-21</td>\n",
              "      <td>41487.570313</td>\n",
              "      <td>41532.589844</td>\n",
              "      <td>41294.300781</td>\n",
              "      <td>41323.808594</td>\n",
              "      <td>41323.808594</td>\n",
              "      <td>8900.0</td>\n",
              "      <td>wild eleph trampl man death n maha see rabi so...</td>\n",
              "      <td>0.399257</td>\n",
              "      <td>0.116144</td>\n",
              "      <td>-0.9998</td>\n",
              "      <td>0.142</td>\n",
              "      <td>0.782</td>\n",
              "      <td>0.076</td>\n",
              "    </tr>\n",
              "    <tr>\n",
              "      <th>2</th>\n",
              "      <td>2020-01-22</td>\n",
              "      <td>41467.128906</td>\n",
              "      <td>41532.289063</td>\n",
              "      <td>41059.039063</td>\n",
              "      <td>41115.378906</td>\n",
              "      <td>41115.378906</td>\n",
              "      <td>7700.0</td>\n",
              "      <td>man held dupe staff rs cr krrip kapur suri ble...</td>\n",
              "      <td>0.380616</td>\n",
              "      <td>0.064747</td>\n",
              "      <td>-0.9999</td>\n",
              "      <td>0.151</td>\n",
              "      <td>0.790</td>\n",
              "      <td>0.059</td>\n",
              "    </tr>\n",
              "    <tr>\n",
              "      <th>3</th>\n",
              "      <td>2020-01-23</td>\n",
              "      <td>41191.500000</td>\n",
              "      <td>41413.960938</td>\n",
              "      <td>41098.910156</td>\n",
              "      <td>41386.398438</td>\n",
              "      <td>41386.398438</td>\n",
              "      <td>9900.0</td>\n",
              "      <td>spurn lover attack girl kill self bangalor tim...</td>\n",
              "      <td>0.403469</td>\n",
              "      <td>0.163268</td>\n",
              "      <td>-0.9997</td>\n",
              "      <td>0.135</td>\n",
              "      <td>0.778</td>\n",
              "      <td>0.087</td>\n",
              "    </tr>\n",
              "    <tr>\n",
              "      <th>4</th>\n",
              "      <td>2020-01-24</td>\n",
              "      <td>41377.039063</td>\n",
              "      <td>41697.031250</td>\n",
              "      <td>41275.601563</td>\n",
              "      <td>41613.191406</td>\n",
              "      <td>41613.191406</td>\n",
              "      <td>6600.0</td>\n",
              "      <td>robber steal gold jewelleri worth rs lakh roor...</td>\n",
              "      <td>0.410347</td>\n",
              "      <td>0.102682</td>\n",
              "      <td>-0.9998</td>\n",
              "      <td>0.138</td>\n",
              "      <td>0.784</td>\n",
              "      <td>0.078</td>\n",
              "    </tr>\n",
              "    <tr>\n",
              "      <th>...</th>\n",
              "      <td>...</td>\n",
              "      <td>...</td>\n",
              "      <td>...</td>\n",
              "      <td>...</td>\n",
              "      <td>...</td>\n",
              "      <td>...</td>\n",
              "      <td>...</td>\n",
              "      <td>...</td>\n",
              "      <td>...</td>\n",
              "      <td>...</td>\n",
              "      <td>...</td>\n",
              "      <td>...</td>\n",
              "      <td>...</td>\n",
              "      <td>...</td>\n",
              "    </tr>\n",
              "    <tr>\n",
              "      <th>104</th>\n",
              "      <td>2020-06-24</td>\n",
              "      <td>35679.738281</td>\n",
              "      <td>35706.550781</td>\n",
              "      <td>34794.929688</td>\n",
              "      <td>34868.980469</td>\n",
              "      <td>34868.980469</td>\n",
              "      <td>26600.0</td>\n",
              "      <td>never thought voic today vidya rajput never th...</td>\n",
              "      <td>0.368654</td>\n",
              "      <td>0.077799</td>\n",
              "      <td>-0.9997</td>\n",
              "      <td>0.126</td>\n",
              "      <td>0.807</td>\n",
              "      <td>0.067</td>\n",
              "    </tr>\n",
              "    <tr>\n",
              "      <th>105</th>\n",
              "      <td>2020-06-25</td>\n",
              "      <td>34525.390625</td>\n",
              "      <td>35081.609375</td>\n",
              "      <td>34499.781250</td>\n",
              "      <td>34842.101563</td>\n",
              "      <td>34842.101563</td>\n",
              "      <td>24600.0</td>\n",
              "      <td>truck firm look new export market sell bs rang...</td>\n",
              "      <td>0.362784</td>\n",
              "      <td>0.011935</td>\n",
              "      <td>-0.9999</td>\n",
              "      <td>0.153</td>\n",
              "      <td>0.795</td>\n",
              "      <td>0.052</td>\n",
              "    </tr>\n",
              "    <tr>\n",
              "      <th>106</th>\n",
              "      <td>2020-06-26</td>\n",
              "      <td>35144.781250</td>\n",
              "      <td>35254.878906</td>\n",
              "      <td>34910.339844</td>\n",
              "      <td>35171.269531</td>\n",
              "      <td>35171.269531</td>\n",
              "      <td>24800.0</td>\n",
              "      <td>contain zone resid slam high price charg veget...</td>\n",
              "      <td>0.330257</td>\n",
              "      <td>0.066958</td>\n",
              "      <td>-0.9998</td>\n",
              "      <td>0.142</td>\n",
              "      <td>0.789</td>\n",
              "      <td>0.069</td>\n",
              "    </tr>\n",
              "    <tr>\n",
              "      <th>107</th>\n",
              "      <td>2020-06-29</td>\n",
              "      <td>34926.949219</td>\n",
              "      <td>35032.359375</td>\n",
              "      <td>34662.058594</td>\n",
              "      <td>34961.519531</td>\n",
              "      <td>34961.519531</td>\n",
              "      <td>18300.0</td>\n",
              "      <td>hot stylish bikini look katrina kaif anna eden...</td>\n",
              "      <td>0.373210</td>\n",
              "      <td>0.060782</td>\n",
              "      <td>-0.9998</td>\n",
              "      <td>0.130</td>\n",
              "      <td>0.800</td>\n",
              "      <td>0.070</td>\n",
              "    </tr>\n",
              "    <tr>\n",
              "      <th>108</th>\n",
              "      <td>2020-06-30</td>\n",
              "      <td>35168.300781</td>\n",
              "      <td>35233.910156</td>\n",
              "      <td>34812.800781</td>\n",
              "      <td>34915.800781</td>\n",
              "      <td>34915.800781</td>\n",
              "      <td>18500.0</td>\n",
              "      <td>detect byomkesh bakshi edg tomorrow first look...</td>\n",
              "      <td>0.349361</td>\n",
              "      <td>0.059465</td>\n",
              "      <td>-0.9999</td>\n",
              "      <td>0.134</td>\n",
              "      <td>0.818</td>\n",
              "      <td>0.048</td>\n",
              "    </tr>\n",
              "  </tbody>\n",
              "</table>\n",
              "<p>109 rows × 14 columns</p>\n",
              "</div>"
            ],
            "text/plain": [
              "          Date          Open          High  ...  Negative  Neutral  Positive\n",
              "0   2020-01-20  42263.000000  42273.871094  ...     0.160    0.766     0.074\n",
              "1   2020-01-21  41487.570313  41532.589844  ...     0.142    0.782     0.076\n",
              "2   2020-01-22  41467.128906  41532.289063  ...     0.151    0.790     0.059\n",
              "3   2020-01-23  41191.500000  41413.960938  ...     0.135    0.778     0.087\n",
              "4   2020-01-24  41377.039063  41697.031250  ...     0.138    0.784     0.078\n",
              "..         ...           ...           ...  ...       ...      ...       ...\n",
              "104 2020-06-24  35679.738281  35706.550781  ...     0.126    0.807     0.067\n",
              "105 2020-06-25  34525.390625  35081.609375  ...     0.153    0.795     0.052\n",
              "106 2020-06-26  35144.781250  35254.878906  ...     0.142    0.789     0.069\n",
              "107 2020-06-29  34926.949219  35032.359375  ...     0.130    0.800     0.070\n",
              "108 2020-06-30  35168.300781  35233.910156  ...     0.134    0.818     0.048\n",
              "\n",
              "[109 rows x 14 columns]"
            ]
          },
          "metadata": {
            "tags": []
          },
          "execution_count": 78
        }
      ]
    },
    {
      "cell_type": "code",
      "metadata": {
        "colab": {
          "base_uri": "https://localhost:8080/",
          "height": 419
        },
        "id": "p-IXxMTGvi4Z",
        "outputId": "00afc70f-0b6f-467e-a4ad-194c48ff176b"
      },
      "source": [
        "df = df_merge[['Close','Subjectivity', 'Polarity', 'Compound', 'Negative', 'Neutral' ,'Positive']]\r\n",
        "df"
      ],
      "execution_count": 79,
      "outputs": [
        {
          "output_type": "execute_result",
          "data": {
            "text/html": [
              "<div>\n",
              "<style scoped>\n",
              "    .dataframe tbody tr th:only-of-type {\n",
              "        vertical-align: middle;\n",
              "    }\n",
              "\n",
              "    .dataframe tbody tr th {\n",
              "        vertical-align: top;\n",
              "    }\n",
              "\n",
              "    .dataframe thead th {\n",
              "        text-align: right;\n",
              "    }\n",
              "</style>\n",
              "<table border=\"1\" class=\"dataframe\">\n",
              "  <thead>\n",
              "    <tr style=\"text-align: right;\">\n",
              "      <th></th>\n",
              "      <th>Close</th>\n",
              "      <th>Subjectivity</th>\n",
              "      <th>Polarity</th>\n",
              "      <th>Compound</th>\n",
              "      <th>Negative</th>\n",
              "      <th>Neutral</th>\n",
              "      <th>Positive</th>\n",
              "    </tr>\n",
              "  </thead>\n",
              "  <tbody>\n",
              "    <tr>\n",
              "      <th>0</th>\n",
              "      <td>41528.910156</td>\n",
              "      <td>0.377693</td>\n",
              "      <td>0.068002</td>\n",
              "      <td>-0.9999</td>\n",
              "      <td>0.160</td>\n",
              "      <td>0.766</td>\n",
              "      <td>0.074</td>\n",
              "    </tr>\n",
              "    <tr>\n",
              "      <th>1</th>\n",
              "      <td>41323.808594</td>\n",
              "      <td>0.399257</td>\n",
              "      <td>0.116144</td>\n",
              "      <td>-0.9998</td>\n",
              "      <td>0.142</td>\n",
              "      <td>0.782</td>\n",
              "      <td>0.076</td>\n",
              "    </tr>\n",
              "    <tr>\n",
              "      <th>2</th>\n",
              "      <td>41115.378906</td>\n",
              "      <td>0.380616</td>\n",
              "      <td>0.064747</td>\n",
              "      <td>-0.9999</td>\n",
              "      <td>0.151</td>\n",
              "      <td>0.790</td>\n",
              "      <td>0.059</td>\n",
              "    </tr>\n",
              "    <tr>\n",
              "      <th>3</th>\n",
              "      <td>41386.398438</td>\n",
              "      <td>0.403469</td>\n",
              "      <td>0.163268</td>\n",
              "      <td>-0.9997</td>\n",
              "      <td>0.135</td>\n",
              "      <td>0.778</td>\n",
              "      <td>0.087</td>\n",
              "    </tr>\n",
              "    <tr>\n",
              "      <th>4</th>\n",
              "      <td>41613.191406</td>\n",
              "      <td>0.410347</td>\n",
              "      <td>0.102682</td>\n",
              "      <td>-0.9998</td>\n",
              "      <td>0.138</td>\n",
              "      <td>0.784</td>\n",
              "      <td>0.078</td>\n",
              "    </tr>\n",
              "    <tr>\n",
              "      <th>...</th>\n",
              "      <td>...</td>\n",
              "      <td>...</td>\n",
              "      <td>...</td>\n",
              "      <td>...</td>\n",
              "      <td>...</td>\n",
              "      <td>...</td>\n",
              "      <td>...</td>\n",
              "    </tr>\n",
              "    <tr>\n",
              "      <th>104</th>\n",
              "      <td>34868.980469</td>\n",
              "      <td>0.368654</td>\n",
              "      <td>0.077799</td>\n",
              "      <td>-0.9997</td>\n",
              "      <td>0.126</td>\n",
              "      <td>0.807</td>\n",
              "      <td>0.067</td>\n",
              "    </tr>\n",
              "    <tr>\n",
              "      <th>105</th>\n",
              "      <td>34842.101563</td>\n",
              "      <td>0.362784</td>\n",
              "      <td>0.011935</td>\n",
              "      <td>-0.9999</td>\n",
              "      <td>0.153</td>\n",
              "      <td>0.795</td>\n",
              "      <td>0.052</td>\n",
              "    </tr>\n",
              "    <tr>\n",
              "      <th>106</th>\n",
              "      <td>35171.269531</td>\n",
              "      <td>0.330257</td>\n",
              "      <td>0.066958</td>\n",
              "      <td>-0.9998</td>\n",
              "      <td>0.142</td>\n",
              "      <td>0.789</td>\n",
              "      <td>0.069</td>\n",
              "    </tr>\n",
              "    <tr>\n",
              "      <th>107</th>\n",
              "      <td>34961.519531</td>\n",
              "      <td>0.373210</td>\n",
              "      <td>0.060782</td>\n",
              "      <td>-0.9998</td>\n",
              "      <td>0.130</td>\n",
              "      <td>0.800</td>\n",
              "      <td>0.070</td>\n",
              "    </tr>\n",
              "    <tr>\n",
              "      <th>108</th>\n",
              "      <td>34915.800781</td>\n",
              "      <td>0.349361</td>\n",
              "      <td>0.059465</td>\n",
              "      <td>-0.9999</td>\n",
              "      <td>0.134</td>\n",
              "      <td>0.818</td>\n",
              "      <td>0.048</td>\n",
              "    </tr>\n",
              "  </tbody>\n",
              "</table>\n",
              "<p>109 rows × 7 columns</p>\n",
              "</div>"
            ],
            "text/plain": [
              "            Close  Subjectivity  Polarity  ...  Negative  Neutral  Positive\n",
              "0    41528.910156      0.377693  0.068002  ...     0.160    0.766     0.074\n",
              "1    41323.808594      0.399257  0.116144  ...     0.142    0.782     0.076\n",
              "2    41115.378906      0.380616  0.064747  ...     0.151    0.790     0.059\n",
              "3    41386.398438      0.403469  0.163268  ...     0.135    0.778     0.087\n",
              "4    41613.191406      0.410347  0.102682  ...     0.138    0.784     0.078\n",
              "..            ...           ...       ...  ...       ...      ...       ...\n",
              "104  34868.980469      0.368654  0.077799  ...     0.126    0.807     0.067\n",
              "105  34842.101563      0.362784  0.011935  ...     0.153    0.795     0.052\n",
              "106  35171.269531      0.330257  0.066958  ...     0.142    0.789     0.069\n",
              "107  34961.519531      0.373210  0.060782  ...     0.130    0.800     0.070\n",
              "108  34915.800781      0.349361  0.059465  ...     0.134    0.818     0.048\n",
              "\n",
              "[109 rows x 7 columns]"
            ]
          },
          "metadata": {
            "tags": []
          },
          "execution_count": 79
        }
      ]
    },
    {
      "cell_type": "code",
      "metadata": {
        "colab": {
          "base_uri": "https://localhost:8080/",
          "height": 204
        },
        "id": "XP-anEwMvmIM",
        "outputId": "3241dee1-3ace-4f14-8fd9-268f3e896607"
      },
      "source": [
        "from sklearn.preprocessing import MinMaxScaler\r\n",
        "sc = MinMaxScaler()\r\n",
        "new_df = pd.DataFrame(sc.fit_transform(df))\r\n",
        "new_df.columns = df.columns\r\n",
        "new_df.index = df.index\r\n",
        "new_df.head()"
      ],
      "execution_count": 80,
      "outputs": [
        {
          "output_type": "execute_result",
          "data": {
            "text/html": [
              "<div>\n",
              "<style scoped>\n",
              "    .dataframe tbody tr th:only-of-type {\n",
              "        vertical-align: middle;\n",
              "    }\n",
              "\n",
              "    .dataframe tbody tr th {\n",
              "        vertical-align: top;\n",
              "    }\n",
              "\n",
              "    .dataframe thead th {\n",
              "        text-align: right;\n",
              "    }\n",
              "</style>\n",
              "<table border=\"1\" class=\"dataframe\">\n",
              "  <thead>\n",
              "    <tr style=\"text-align: right;\">\n",
              "      <th></th>\n",
              "      <th>Close</th>\n",
              "      <th>Subjectivity</th>\n",
              "      <th>Polarity</th>\n",
              "      <th>Compound</th>\n",
              "      <th>Negative</th>\n",
              "      <th>Neutral</th>\n",
              "      <th>Positive</th>\n",
              "    </tr>\n",
              "  </thead>\n",
              "  <tbody>\n",
              "    <tr>\n",
              "      <th>0</th>\n",
              "      <td>0.994608</td>\n",
              "      <td>0.598310</td>\n",
              "      <td>0.460540</td>\n",
              "      <td>0.000000</td>\n",
              "      <td>0.725490</td>\n",
              "      <td>0.213592</td>\n",
              "      <td>0.433333</td>\n",
              "    </tr>\n",
              "    <tr>\n",
              "      <th>1</th>\n",
              "      <td>0.981488</td>\n",
              "      <td>0.805499</td>\n",
              "      <td>0.733156</td>\n",
              "      <td>0.000728</td>\n",
              "      <td>0.549020</td>\n",
              "      <td>0.368932</td>\n",
              "      <td>0.466667</td>\n",
              "    </tr>\n",
              "    <tr>\n",
              "      <th>2</th>\n",
              "      <td>0.968154</td>\n",
              "      <td>0.626394</td>\n",
              "      <td>0.442111</td>\n",
              "      <td>0.000000</td>\n",
              "      <td>0.637255</td>\n",
              "      <td>0.446602</td>\n",
              "      <td>0.183333</td>\n",
              "    </tr>\n",
              "    <tr>\n",
              "      <th>3</th>\n",
              "      <td>0.985492</td>\n",
              "      <td>0.845959</td>\n",
              "      <td>1.000000</td>\n",
              "      <td>0.001456</td>\n",
              "      <td>0.480392</td>\n",
              "      <td>0.330097</td>\n",
              "      <td>0.650000</td>\n",
              "    </tr>\n",
              "    <tr>\n",
              "      <th>4</th>\n",
              "      <td>1.000000</td>\n",
              "      <td>0.912045</td>\n",
              "      <td>0.656923</td>\n",
              "      <td>0.000728</td>\n",
              "      <td>0.509804</td>\n",
              "      <td>0.388350</td>\n",
              "      <td>0.500000</td>\n",
              "    </tr>\n",
              "  </tbody>\n",
              "</table>\n",
              "</div>"
            ],
            "text/plain": [
              "      Close  Subjectivity  Polarity  Compound  Negative   Neutral  Positive\n",
              "0  0.994608      0.598310  0.460540  0.000000  0.725490  0.213592  0.433333\n",
              "1  0.981488      0.805499  0.733156  0.000728  0.549020  0.368932  0.466667\n",
              "2  0.968154      0.626394  0.442111  0.000000  0.637255  0.446602  0.183333\n",
              "3  0.985492      0.845959  1.000000  0.001456  0.480392  0.330097  0.650000\n",
              "4  1.000000      0.912045  0.656923  0.000728  0.509804  0.388350  0.500000"
            ]
          },
          "metadata": {
            "tags": []
          },
          "execution_count": 80
        }
      ]
    },
    {
      "cell_type": "code",
      "metadata": {
        "id": "WXEFd-0bvol3"
      },
      "source": [
        "X = new_df.drop('Close', axis=1)\r\n",
        "y = new_df['Close']"
      ],
      "execution_count": 81,
      "outputs": []
    },
    {
      "cell_type": "code",
      "metadata": {
        "colab": {
          "base_uri": "https://localhost:8080/",
          "height": 204
        },
        "id": "lNVn45nXvp5F",
        "outputId": "ef90925b-8e1f-4b31-81de-1a80df4111f4"
      },
      "source": [
        "X.head()"
      ],
      "execution_count": 82,
      "outputs": [
        {
          "output_type": "execute_result",
          "data": {
            "text/html": [
              "<div>\n",
              "<style scoped>\n",
              "    .dataframe tbody tr th:only-of-type {\n",
              "        vertical-align: middle;\n",
              "    }\n",
              "\n",
              "    .dataframe tbody tr th {\n",
              "        vertical-align: top;\n",
              "    }\n",
              "\n",
              "    .dataframe thead th {\n",
              "        text-align: right;\n",
              "    }\n",
              "</style>\n",
              "<table border=\"1\" class=\"dataframe\">\n",
              "  <thead>\n",
              "    <tr style=\"text-align: right;\">\n",
              "      <th></th>\n",
              "      <th>Subjectivity</th>\n",
              "      <th>Polarity</th>\n",
              "      <th>Compound</th>\n",
              "      <th>Negative</th>\n",
              "      <th>Neutral</th>\n",
              "      <th>Positive</th>\n",
              "    </tr>\n",
              "  </thead>\n",
              "  <tbody>\n",
              "    <tr>\n",
              "      <th>0</th>\n",
              "      <td>0.598310</td>\n",
              "      <td>0.460540</td>\n",
              "      <td>0.000000</td>\n",
              "      <td>0.725490</td>\n",
              "      <td>0.213592</td>\n",
              "      <td>0.433333</td>\n",
              "    </tr>\n",
              "    <tr>\n",
              "      <th>1</th>\n",
              "      <td>0.805499</td>\n",
              "      <td>0.733156</td>\n",
              "      <td>0.000728</td>\n",
              "      <td>0.549020</td>\n",
              "      <td>0.368932</td>\n",
              "      <td>0.466667</td>\n",
              "    </tr>\n",
              "    <tr>\n",
              "      <th>2</th>\n",
              "      <td>0.626394</td>\n",
              "      <td>0.442111</td>\n",
              "      <td>0.000000</td>\n",
              "      <td>0.637255</td>\n",
              "      <td>0.446602</td>\n",
              "      <td>0.183333</td>\n",
              "    </tr>\n",
              "    <tr>\n",
              "      <th>3</th>\n",
              "      <td>0.845959</td>\n",
              "      <td>1.000000</td>\n",
              "      <td>0.001456</td>\n",
              "      <td>0.480392</td>\n",
              "      <td>0.330097</td>\n",
              "      <td>0.650000</td>\n",
              "    </tr>\n",
              "    <tr>\n",
              "      <th>4</th>\n",
              "      <td>0.912045</td>\n",
              "      <td>0.656923</td>\n",
              "      <td>0.000728</td>\n",
              "      <td>0.509804</td>\n",
              "      <td>0.388350</td>\n",
              "      <td>0.500000</td>\n",
              "    </tr>\n",
              "  </tbody>\n",
              "</table>\n",
              "</div>"
            ],
            "text/plain": [
              "   Subjectivity  Polarity  Compound  Negative   Neutral  Positive\n",
              "0      0.598310  0.460540  0.000000  0.725490  0.213592  0.433333\n",
              "1      0.805499  0.733156  0.000728  0.549020  0.368932  0.466667\n",
              "2      0.626394  0.442111  0.000000  0.637255  0.446602  0.183333\n",
              "3      0.845959  1.000000  0.001456  0.480392  0.330097  0.650000\n",
              "4      0.912045  0.656923  0.000728  0.509804  0.388350  0.500000"
            ]
          },
          "metadata": {
            "tags": []
          },
          "execution_count": 82
        }
      ]
    },
    {
      "cell_type": "code",
      "metadata": {
        "colab": {
          "base_uri": "https://localhost:8080/"
        },
        "id": "8_RK4NkEvsfO",
        "outputId": "ee705cd4-28e7-4f02-fcc0-9da7220da3e9"
      },
      "source": [
        "x_train, x_test, y_train, y_test = train_test_split(X, y, test_size=0.2, random_state = 0)\r\n",
        "x_train.shape"
      ],
      "execution_count": 83,
      "outputs": [
        {
          "output_type": "execute_result",
          "data": {
            "text/plain": [
              "(87, 6)"
            ]
          },
          "metadata": {
            "tags": []
          },
          "execution_count": 83
        }
      ]
    },
    {
      "cell_type": "code",
      "metadata": {
        "colab": {
          "base_uri": "https://localhost:8080/",
          "height": 359
        },
        "id": "pF5QV9wovuhD",
        "outputId": "f4fca7fa-58b8-470a-8422-c7b6de11c37c"
      },
      "source": [
        "x_train[:10]"
      ],
      "execution_count": 84,
      "outputs": [
        {
          "output_type": "execute_result",
          "data": {
            "text/html": [
              "<div>\n",
              "<style scoped>\n",
              "    .dataframe tbody tr th:only-of-type {\n",
              "        vertical-align: middle;\n",
              "    }\n",
              "\n",
              "    .dataframe tbody tr th {\n",
              "        vertical-align: top;\n",
              "    }\n",
              "\n",
              "    .dataframe thead th {\n",
              "        text-align: right;\n",
              "    }\n",
              "</style>\n",
              "<table border=\"1\" class=\"dataframe\">\n",
              "  <thead>\n",
              "    <tr style=\"text-align: right;\">\n",
              "      <th></th>\n",
              "      <th>Subjectivity</th>\n",
              "      <th>Polarity</th>\n",
              "      <th>Compound</th>\n",
              "      <th>Negative</th>\n",
              "      <th>Neutral</th>\n",
              "      <th>Positive</th>\n",
              "    </tr>\n",
              "  </thead>\n",
              "  <tbody>\n",
              "    <tr>\n",
              "      <th>26</th>\n",
              "      <td>0.632040</td>\n",
              "      <td>0.404647</td>\n",
              "      <td>0.000728</td>\n",
              "      <td>0.519608</td>\n",
              "      <td>0.417476</td>\n",
              "      <td>0.433333</td>\n",
              "    </tr>\n",
              "    <tr>\n",
              "      <th>93</th>\n",
              "      <td>0.630322</td>\n",
              "      <td>0.246447</td>\n",
              "      <td>0.001456</td>\n",
              "      <td>0.372549</td>\n",
              "      <td>0.660194</td>\n",
              "      <td>0.283333</td>\n",
              "    </tr>\n",
              "    <tr>\n",
              "      <th>33</th>\n",
              "      <td>0.366566</td>\n",
              "      <td>0.289611</td>\n",
              "      <td>0.000000</td>\n",
              "      <td>0.676471</td>\n",
              "      <td>0.330097</td>\n",
              "      <td>0.316667</td>\n",
              "    </tr>\n",
              "    <tr>\n",
              "      <th>3</th>\n",
              "      <td>0.845959</td>\n",
              "      <td>1.000000</td>\n",
              "      <td>0.001456</td>\n",
              "      <td>0.480392</td>\n",
              "      <td>0.330097</td>\n",
              "      <td>0.650000</td>\n",
              "    </tr>\n",
              "    <tr>\n",
              "      <th>66</th>\n",
              "      <td>0.421022</td>\n",
              "      <td>0.454838</td>\n",
              "      <td>0.014556</td>\n",
              "      <td>0.176471</td>\n",
              "      <td>0.631068</td>\n",
              "      <td>0.650000</td>\n",
              "    </tr>\n",
              "    <tr>\n",
              "      <th>48</th>\n",
              "      <td>0.345865</td>\n",
              "      <td>0.369178</td>\n",
              "      <td>0.010189</td>\n",
              "      <td>0.039216</td>\n",
              "      <td>1.000000</td>\n",
              "      <td>0.250000</td>\n",
              "    </tr>\n",
              "    <tr>\n",
              "      <th>30</th>\n",
              "      <td>0.467388</td>\n",
              "      <td>0.198766</td>\n",
              "      <td>0.000000</td>\n",
              "      <td>0.696078</td>\n",
              "      <td>0.271845</td>\n",
              "      <td>0.383333</td>\n",
              "    </tr>\n",
              "    <tr>\n",
              "      <th>6</th>\n",
              "      <td>0.478219</td>\n",
              "      <td>0.654097</td>\n",
              "      <td>0.000000</td>\n",
              "      <td>0.637255</td>\n",
              "      <td>0.320388</td>\n",
              "      <td>0.400000</td>\n",
              "    </tr>\n",
              "    <tr>\n",
              "      <th>78</th>\n",
              "      <td>0.118633</td>\n",
              "      <td>0.364662</td>\n",
              "      <td>0.000000</td>\n",
              "      <td>0.598039</td>\n",
              "      <td>0.359223</td>\n",
              "      <td>0.383333</td>\n",
              "    </tr>\n",
              "    <tr>\n",
              "      <th>89</th>\n",
              "      <td>0.550016</td>\n",
              "      <td>0.465716</td>\n",
              "      <td>0.000728</td>\n",
              "      <td>0.519608</td>\n",
              "      <td>0.407767</td>\n",
              "      <td>0.450000</td>\n",
              "    </tr>\n",
              "  </tbody>\n",
              "</table>\n",
              "</div>"
            ],
            "text/plain": [
              "    Subjectivity  Polarity  Compound  Negative   Neutral  Positive\n",
              "26      0.632040  0.404647  0.000728  0.519608  0.417476  0.433333\n",
              "93      0.630322  0.246447  0.001456  0.372549  0.660194  0.283333\n",
              "33      0.366566  0.289611  0.000000  0.676471  0.330097  0.316667\n",
              "3       0.845959  1.000000  0.001456  0.480392  0.330097  0.650000\n",
              "66      0.421022  0.454838  0.014556  0.176471  0.631068  0.650000\n",
              "48      0.345865  0.369178  0.010189  0.039216  1.000000  0.250000\n",
              "30      0.467388  0.198766  0.000000  0.696078  0.271845  0.383333\n",
              "6       0.478219  0.654097  0.000000  0.637255  0.320388  0.400000\n",
              "78      0.118633  0.364662  0.000000  0.598039  0.359223  0.383333\n",
              "89      0.550016  0.465716  0.000728  0.519608  0.407767  0.450000"
            ]
          },
          "metadata": {
            "tags": []
          },
          "execution_count": 84
        }
      ]
    },
    {
      "cell_type": "code",
      "metadata": {
        "id": "4Bvu_yYRvwlp"
      },
      "source": [
        "rf = RandomForestRegressor()\r\n",
        "rf.fit(x_train , y_train)\r\n",
        "prediction = rf.predict(x_test)"
      ],
      "execution_count": 85,
      "outputs": []
    },
    {
      "cell_type": "code",
      "metadata": {
        "colab": {
          "base_uri": "https://localhost:8080/"
        },
        "id": "rrdQ2Naov-JK",
        "outputId": "3d22c1cc-9328-4008-cf97-e4ad9b4c67d8"
      },
      "source": [
        "print(prediction[:10])\r\n",
        "print(y_test[:10])\r\n",
        "print(mean_squared_error(prediction,y_test))"
      ],
      "execution_count": 86,
      "outputs": [
        {
          "output_type": "stream",
          "text": [
            "[0.33414114 0.87540535 0.34428635 0.42753479 0.85352653 0.50320593\n",
            " 0.40714038 0.62519552 0.659982   0.53516264]\n",
            "84     0.359775\n",
            "10     0.888633\n",
            "75     0.385580\n",
            "2      0.968154\n",
            "24     0.920038\n",
            "100    0.526282\n",
            "108    0.571558\n",
            "7      0.973482\n",
            "16     0.974600\n",
            "86     0.412160\n",
            "Name: Close, dtype: float64\n",
            "0.052633030919200456\n"
          ],
          "name": "stdout"
        }
      ]
    },
    {
      "cell_type": "code",
      "metadata": {
        "id": "BjhF6QFywB3t"
      },
      "source": [
        "adb = AdaBoostRegressor()\r\n",
        "adb.fit(x_train, y_train)\r\n",
        "predictions = adb.predict(x_test)"
      ],
      "execution_count": 87,
      "outputs": []
    },
    {
      "cell_type": "code",
      "metadata": {
        "id": "4LywXVzBwEKm"
      },
      "source": [
        "print(mean_squared_error(predictions, y_test))"
      ],
      "execution_count": null,
      "outputs": []
    },
    {
      "cell_type": "code",
      "metadata": {
        "id": "ENuHmmH4wGQC"
      },
      "source": [
        "from sklearn.tree import DecisionTreeRegressor\r\n",
        "dec_tree = DecisionTreeRegressor()\r\n",
        "dec_tree.fit(x_train, y_train)\r\n",
        "predictions = dec_tree.predict(x_test)"
      ],
      "execution_count": 88,
      "outputs": []
    },
    {
      "cell_type": "code",
      "metadata": {
        "colab": {
          "base_uri": "https://localhost:8080/"
        },
        "id": "Knp-bMRZwHh1",
        "outputId": "3ba71fe1-ffb8-4e69-83b9-d2903715092c"
      },
      "source": [
        "print(predictions[:10])\r\n",
        "print(y_test[:10])\r\n",
        "print(mean_squared_error(predictions,y_test))"
      ],
      "execution_count": 89,
      "outputs": [
        {
          "output_type": "stream",
          "text": [
            "[0.         0.97069654 0.15731114 0.14758172 0.94729945 0.53667887\n",
            " 0.60447921 0.30011286 0.46841749 0.79505368]\n",
            "84     0.359775\n",
            "10     0.888633\n",
            "75     0.385580\n",
            "2      0.968154\n",
            "24     0.920038\n",
            "100    0.526282\n",
            "108    0.571558\n",
            "7      0.973482\n",
            "16     0.974600\n",
            "86     0.412160\n",
            "Name: Close, dtype: float64\n",
            "0.1125799238235873\n"
          ],
          "name": "stdout"
        }
      ]
    },
    {
      "cell_type": "code",
      "metadata": {
        "colab": {
          "base_uri": "https://localhost:8080/"
        },
        "id": "s70pKWM8wLmb",
        "outputId": "c070062a-9e07-4dc0-b13a-785aa257fb72"
      },
      "source": [
        "lgb = lightgbm.LGBMRegressor()\r\n",
        "lgb.fit(x_train, y_train)"
      ],
      "execution_count": 90,
      "outputs": [
        {
          "output_type": "execute_result",
          "data": {
            "text/plain": [
              "LGBMRegressor(boosting_type='gbdt', class_weight=None, colsample_bytree=1.0,\n",
              "              importance_type='split', learning_rate=0.1, max_depth=-1,\n",
              "              min_child_samples=20, min_child_weight=0.001, min_split_gain=0.0,\n",
              "              n_estimators=100, n_jobs=-1, num_leaves=31, objective=None,\n",
              "              random_state=None, reg_alpha=0.0, reg_lambda=0.0, silent=True,\n",
              "              subsample=1.0, subsample_for_bin=200000, subsample_freq=0)"
            ]
          },
          "metadata": {
            "tags": []
          },
          "execution_count": 90
        }
      ]
    },
    {
      "cell_type": "code",
      "metadata": {
        "colab": {
          "base_uri": "https://localhost:8080/"
        },
        "id": "STLjC8EswNwz",
        "outputId": "73030507-aca0-49c3-bc91-a3032df41e18"
      },
      "source": [
        "predictions = lgb.predict(x_test)\r\n",
        "print(mean_squared_error(predictions,y_test))"
      ],
      "execution_count": 91,
      "outputs": [
        {
          "output_type": "stream",
          "text": [
            "0.04104145072488143\n"
          ],
          "name": "stdout"
        }
      ]
    },
    {
      "cell_type": "code",
      "metadata": {
        "colab": {
          "base_uri": "https://localhost:8080/"
        },
        "id": "BRSaSX5NwQt5",
        "outputId": "0f719c69-34ff-4a87-c0dc-be1402f90a00"
      },
      "source": [
        "xgb = xgboost.XGBRegressor()\r\n",
        "xgb.fit(x_train, y_train)"
      ],
      "execution_count": 92,
      "outputs": [
        {
          "output_type": "stream",
          "text": [
            "[18:27:05] WARNING: /workspace/src/objective/regression_obj.cu:152: reg:linear is now deprecated in favor of reg:squarederror.\n"
          ],
          "name": "stdout"
        },
        {
          "output_type": "execute_result",
          "data": {
            "text/plain": [
              "XGBRegressor(base_score=0.5, booster='gbtree', colsample_bylevel=1,\n",
              "             colsample_bynode=1, colsample_bytree=1, gamma=0,\n",
              "             importance_type='gain', learning_rate=0.1, max_delta_step=0,\n",
              "             max_depth=3, min_child_weight=1, missing=None, n_estimators=100,\n",
              "             n_jobs=1, nthread=None, objective='reg:linear', random_state=0,\n",
              "             reg_alpha=0, reg_lambda=1, scale_pos_weight=1, seed=None,\n",
              "             silent=None, subsample=1, verbosity=1)"
            ]
          },
          "metadata": {
            "tags": []
          },
          "execution_count": 92
        }
      ]
    },
    {
      "cell_type": "code",
      "metadata": {
        "colab": {
          "base_uri": "https://localhost:8080/"
        },
        "id": "X-XWd3Y1wTJ8",
        "outputId": "d9dfa8b4-7b41-44cc-957d-f44b955e6fe6"
      },
      "source": [
        "predictions = xgb.predict(x_test)\r\n",
        "print(mean_squared_error(predictions , y_test))\r\n"
      ],
      "execution_count": 93,
      "outputs": [
        {
          "output_type": "stream",
          "text": [
            "0.04962454986692045\n"
          ],
          "name": "stdout"
        }
      ]
    },
    {
      "cell_type": "markdown",
      "metadata": {
        "id": "rrNv9UH60fCT"
      },
      "source": [
        "# **Using LSTM Analysis on Stock Data**"
      ]
    },
    {
      "cell_type": "code",
      "metadata": {
        "id": "clLmHQK00x6E"
      },
      "source": [
        "stock1 = df_prices['Close'].copy()\r\n",
        "stock1 = pd.DataFrame(stock1)"
      ],
      "execution_count": 94,
      "outputs": []
    },
    {
      "cell_type": "code",
      "metadata": {
        "colab": {
          "base_uri": "https://localhost:8080/",
          "height": 419
        },
        "id": "C743v7QE0_sK",
        "outputId": "5efed475-bd51-48e3-cbe8-0607921818b6"
      },
      "source": [
        "stock1"
      ],
      "execution_count": 95,
      "outputs": [
        {
          "output_type": "execute_result",
          "data": {
            "text/html": [
              "<div>\n",
              "<style scoped>\n",
              "    .dataframe tbody tr th:only-of-type {\n",
              "        vertical-align: middle;\n",
              "    }\n",
              "\n",
              "    .dataframe tbody tr th {\n",
              "        vertical-align: top;\n",
              "    }\n",
              "\n",
              "    .dataframe thead th {\n",
              "        text-align: right;\n",
              "    }\n",
              "</style>\n",
              "<table border=\"1\" class=\"dataframe\">\n",
              "  <thead>\n",
              "    <tr style=\"text-align: right;\">\n",
              "      <th></th>\n",
              "      <th>Close</th>\n",
              "    </tr>\n",
              "  </thead>\n",
              "  <tbody>\n",
              "    <tr>\n",
              "      <th>0</th>\n",
              "      <td>41528.910156</td>\n",
              "    </tr>\n",
              "    <tr>\n",
              "      <th>1</th>\n",
              "      <td>41323.808594</td>\n",
              "    </tr>\n",
              "    <tr>\n",
              "      <th>2</th>\n",
              "      <td>41115.378906</td>\n",
              "    </tr>\n",
              "    <tr>\n",
              "      <th>3</th>\n",
              "      <td>41386.398438</td>\n",
              "    </tr>\n",
              "    <tr>\n",
              "      <th>4</th>\n",
              "      <td>41613.191406</td>\n",
              "    </tr>\n",
              "    <tr>\n",
              "      <th>...</th>\n",
              "      <td>...</td>\n",
              "    </tr>\n",
              "    <tr>\n",
              "      <th>245</th>\n",
              "      <td>49517.109375</td>\n",
              "    </tr>\n",
              "    <tr>\n",
              "      <th>246</th>\n",
              "      <td>49492.320313</td>\n",
              "    </tr>\n",
              "    <tr>\n",
              "      <th>247</th>\n",
              "      <td>49584.160156</td>\n",
              "    </tr>\n",
              "    <tr>\n",
              "      <th>248</th>\n",
              "      <td>49034.671875</td>\n",
              "    </tr>\n",
              "    <tr>\n",
              "      <th>249</th>\n",
              "      <td>48564.269531</td>\n",
              "    </tr>\n",
              "  </tbody>\n",
              "</table>\n",
              "<p>248 rows × 1 columns</p>\n",
              "</div>"
            ],
            "text/plain": [
              "            Close\n",
              "0    41528.910156\n",
              "1    41323.808594\n",
              "2    41115.378906\n",
              "3    41386.398438\n",
              "4    41613.191406\n",
              "..            ...\n",
              "245  49517.109375\n",
              "246  49492.320313\n",
              "247  49584.160156\n",
              "248  49034.671875\n",
              "249  48564.269531\n",
              "\n",
              "[248 rows x 1 columns]"
            ]
          },
          "metadata": {
            "tags": []
          },
          "execution_count": 95
        }
      ]
    },
    {
      "cell_type": "code",
      "metadata": {
        "id": "g_Jq1BKB1EMx"
      },
      "source": [
        "from sklearn.preprocessing import MinMaxScaler\r\n",
        "\r\n",
        "scaler = MinMaxScaler(feature_range = (0 , 1))\r\n",
        "df1 = scaler.fit_transform(stock1)"
      ],
      "execution_count": 96,
      "outputs": []
    },
    {
      "cell_type": "code",
      "metadata": {
        "colab": {
          "base_uri": "https://localhost:8080/"
        },
        "id": "FLIDHs2_1Xz2",
        "outputId": "9060caea-e969-40f3-d4b8-b0c9a74e659c"
      },
      "source": [
        "df1.shape"
      ],
      "execution_count": 97,
      "outputs": [
        {
          "output_type": "execute_result",
          "data": {
            "text/plain": [
              "(248, 1)"
            ]
          },
          "metadata": {
            "tags": []
          },
          "execution_count": 97
        }
      ]
    },
    {
      "cell_type": "code",
      "metadata": {
        "id": "CrxTXJEi1bF8"
      },
      "source": [
        "## Train test split\r\n",
        "train_size = int(len(df1)* 0.8)\r\n",
        "test_size =  len(df1) - train_size\r\n",
        "initial_train_data , test_data =  df1[0:train_size, :],df1[train_size:len(df1),:1]"
      ],
      "execution_count": 132,
      "outputs": []
    },
    {
      "cell_type": "code",
      "metadata": {
        "colab": {
          "base_uri": "https://localhost:8080/"
        },
        "id": "4vIXRAYI1zKp",
        "outputId": "20b32c0a-8ed6-4796-f163-362f1d653dd1"
      },
      "source": [
        "train_size , test_size "
      ],
      "execution_count": 133,
      "outputs": [
        {
          "output_type": "execute_result",
          "data": {
            "text/plain": [
              "(198, 50)"
            ]
          },
          "metadata": {
            "tags": []
          },
          "execution_count": 133
        }
      ]
    },
    {
      "cell_type": "code",
      "metadata": {
        "id": "Shz_pA0m1670"
      },
      "source": [
        "# Validation Data\r\n",
        "train_data,cv_data = initial_train_data[0 : int(len(initial_train_data)*0.8)],initial_train_data[int(len(initial_train_data)*0.5):]"
      ],
      "execution_count": 134,
      "outputs": []
    },
    {
      "cell_type": "code",
      "metadata": {
        "id": "6oU6JPXY2JU7"
      },
      "source": [
        "# convert an array of values into a dataset matrix\r\n",
        "def create_dataset(dataset, time_step=1):\r\n",
        "    dataX, dataY = [], []\r\n",
        "    for i in range(len(dataset)-time_step-1):\r\n",
        "        a = dataset[i:(i+time_step), 0]   \r\n",
        "        dataX.append(a)\r\n",
        "        dataY.append(dataset[i + time_step, 0])\r\n",
        "    return np.array(dataX), np.array(dataY)"
      ],
      "execution_count": 135,
      "outputs": []
    },
    {
      "cell_type": "code",
      "metadata": {
        "id": "sjyeMLmw2NF5"
      },
      "source": [
        "time_step = 10\r\n",
        "Xtrain, ytrain = create_dataset(train_data, time_step)\r\n",
        "Xtest, ytest = create_dataset(test_data, time_step)\r\n",
        "Xcv,ycv = create_dataset(cv_data, time_step)"
      ],
      "execution_count": 139,
      "outputs": []
    },
    {
      "cell_type": "code",
      "metadata": {
        "colab": {
          "base_uri": "https://localhost:8080/"
        },
        "id": "2ARElBAj2RbH",
        "outputId": "9494ac11-8728-4df9-8bfe-8e2d35e850b0"
      },
      "source": [
        "print(Xtrain.shape), print(ytrain.shape)"
      ],
      "execution_count": 140,
      "outputs": [
        {
          "output_type": "stream",
          "text": [
            "(147, 10)\n",
            "(147,)\n"
          ],
          "name": "stdout"
        },
        {
          "output_type": "execute_result",
          "data": {
            "text/plain": [
              "(None, None)"
            ]
          },
          "metadata": {
            "tags": []
          },
          "execution_count": 140
        }
      ]
    },
    {
      "cell_type": "code",
      "metadata": {
        "colab": {
          "base_uri": "https://localhost:8080/"
        },
        "id": "Es9iGGeH2TDy",
        "outputId": "072e51c7-4fd8-4c0a-91da-8fd62c748716"
      },
      "source": [
        "print(Xtest.shape), print(ytest.shape)"
      ],
      "execution_count": 141,
      "outputs": [
        {
          "output_type": "stream",
          "text": [
            "(39, 10)\n",
            "(39,)\n"
          ],
          "name": "stdout"
        },
        {
          "output_type": "execute_result",
          "data": {
            "text/plain": [
              "(None, None)"
            ]
          },
          "metadata": {
            "tags": []
          },
          "execution_count": 141
        }
      ]
    },
    {
      "cell_type": "code",
      "metadata": {
        "id": "m4f_6YrD2WH1"
      },
      "source": [
        "# reshape input to be [samples, time steps, features] which is required for LSTM\r\n",
        "Xtrain =Xtrain.reshape(Xtrain.shape[0],Xtrain.shape[1] , 1)\r\n",
        "Xtest = Xtest.reshape(Xtest.shape[0],Xtest.shape[1] , 1)\r\n",
        "Xcv = Xcv.reshape(Xcv.shape[0],Xcv.shape[1] , 1)"
      ],
      "execution_count": 143,
      "outputs": []
    },
    {
      "cell_type": "code",
      "metadata": {
        "id": "hEpfttvo2YFm"
      },
      "source": [
        "### Create the Stacked LSTM model\r\n",
        "#https://www.tensorflow.org/guide/keras/sequential_model\r\n",
        "import tensorflow as tf\r\n",
        "from tensorflow.keras.models import Sequential\r\n",
        "from tensorflow.keras.layers import Dense\r\n",
        "from tensorflow.keras.layers import LSTM\r\n",
        "from tensorflow.keras.optimizers import Adam\r\n",
        "from tensorflow.keras import backend as K"
      ],
      "execution_count": 145,
      "outputs": []
    },
    {
      "cell_type": "code",
      "metadata": {
        "id": "0o3cwF0d2e1v"
      },
      "source": [
        "#Defining our metric\r\n",
        "def root_mean_squared_error(y_true, y_pred):\r\n",
        "    return K.sqrt(K.mean(K.square(y_pred - y_true)))"
      ],
      "execution_count": 146,
      "outputs": []
    },
    {
      "cell_type": "code",
      "metadata": {
        "id": "QOiniaaF2gv8"
      },
      "source": [
        "## LSTM Model Initialization\r\n",
        "model = Sequential()\r\n",
        "model.add(LSTM(units=128, activation='tanh', kernel_initializer=tf.keras.initializers.glorot_uniform(seed=26), input_shape = (Xtrain.shape[1], 1), unroll = True))\r\n",
        "model.add(Dense(1, name=\"output_layer\"))\r\n",
        "model.compile(optimizer = Adam(learning_rate=0.001), loss = root_mean_squared_error)"
      ],
      "execution_count": 147,
      "outputs": []
    },
    {
      "cell_type": "code",
      "metadata": {
        "colab": {
          "base_uri": "https://localhost:8080/"
        },
        "id": "F7IBrnZd2jJZ",
        "outputId": "fda76051-9122-494d-b157-4fe1eb28a45a"
      },
      "source": [
        "model.summary()"
      ],
      "execution_count": 148,
      "outputs": [
        {
          "output_type": "stream",
          "text": [
            "Model: \"sequential_2\"\n",
            "_________________________________________________________________\n",
            "Layer (type)                 Output Shape              Param #   \n",
            "=================================================================\n",
            "lstm_1 (LSTM)                (None, 128)               66560     \n",
            "_________________________________________________________________\n",
            "output_layer (Dense)         (None, 1)                 129       \n",
            "=================================================================\n",
            "Total params: 66,689\n",
            "Trainable params: 66,689\n",
            "Non-trainable params: 0\n",
            "_________________________________________________________________\n"
          ],
          "name": "stdout"
        }
      ]
    },
    {
      "cell_type": "code",
      "metadata": {
        "colab": {
          "base_uri": "https://localhost:8080/"
        },
        "id": "nyh-pBMC2m07",
        "outputId": "29f7d3c1-f2f7-4a7f-db5d-b09e94393be1"
      },
      "source": [
        "model.fit(Xtrain,ytrain,validation_data=(Xcv,ycv),epochs=100,batch_size=16,verbose=1)"
      ],
      "execution_count": 149,
      "outputs": [
        {
          "output_type": "stream",
          "text": [
            "Epoch 1/100\n",
            "10/10 [==============================] - 2s 62ms/step - loss: 0.3388 - val_loss: 0.0988\n",
            "Epoch 2/100\n",
            "10/10 [==============================] - 0s 21ms/step - loss: 0.1195 - val_loss: 0.1276\n",
            "Epoch 3/100\n",
            "10/10 [==============================] - 0s 21ms/step - loss: 0.0928 - val_loss: 0.0315\n",
            "Epoch 4/100\n",
            "10/10 [==============================] - 0s 22ms/step - loss: 0.0759 - val_loss: 0.0500\n",
            "Epoch 5/100\n",
            "10/10 [==============================] - 0s 22ms/step - loss: 0.0590 - val_loss: 0.0377\n",
            "Epoch 6/100\n",
            "10/10 [==============================] - 0s 23ms/step - loss: 0.0592 - val_loss: 0.0347\n",
            "Epoch 7/100\n",
            "10/10 [==============================] - 0s 21ms/step - loss: 0.0638 - val_loss: 0.0479\n",
            "Epoch 8/100\n",
            "10/10 [==============================] - 0s 18ms/step - loss: 0.0586 - val_loss: 0.0360\n",
            "Epoch 9/100\n",
            "10/10 [==============================] - 0s 21ms/step - loss: 0.0584 - val_loss: 0.0481\n",
            "Epoch 10/100\n",
            "10/10 [==============================] - 0s 22ms/step - loss: 0.0547 - val_loss: 0.0356\n",
            "Epoch 11/100\n",
            "10/10 [==============================] - 0s 21ms/step - loss: 0.0575 - val_loss: 0.0265\n",
            "Epoch 12/100\n",
            "10/10 [==============================] - 0s 22ms/step - loss: 0.0532 - val_loss: 0.0359\n",
            "Epoch 13/100\n",
            "10/10 [==============================] - 0s 21ms/step - loss: 0.0538 - val_loss: 0.0329\n",
            "Epoch 14/100\n",
            "10/10 [==============================] - 0s 14ms/step - loss: 0.0498 - val_loss: 0.0484\n",
            "Epoch 15/100\n",
            "10/10 [==============================] - 0s 20ms/step - loss: 0.0516 - val_loss: 0.0262\n",
            "Epoch 16/100\n",
            "10/10 [==============================] - 0s 20ms/step - loss: 0.0465 - val_loss: 0.0372\n",
            "Epoch 17/100\n",
            "10/10 [==============================] - 0s 18ms/step - loss: 0.0535 - val_loss: 0.0442\n",
            "Epoch 18/100\n",
            "10/10 [==============================] - 0s 12ms/step - loss: 0.0461 - val_loss: 0.0476\n",
            "Epoch 19/100\n",
            "10/10 [==============================] - 0s 13ms/step - loss: 0.0471 - val_loss: 0.0331\n",
            "Epoch 20/100\n",
            "10/10 [==============================] - 0s 13ms/step - loss: 0.0468 - val_loss: 0.0341\n",
            "Epoch 21/100\n",
            "10/10 [==============================] - 0s 13ms/step - loss: 0.0417 - val_loss: 0.0293\n",
            "Epoch 22/100\n",
            "10/10 [==============================] - 0s 15ms/step - loss: 0.0360 - val_loss: 0.0245\n",
            "Epoch 23/100\n",
            "10/10 [==============================] - 0s 33ms/step - loss: 0.0414 - val_loss: 0.0333\n",
            "Epoch 24/100\n",
            "10/10 [==============================] - 0s 12ms/step - loss: 0.0473 - val_loss: 0.0237\n",
            "Epoch 25/100\n",
            "10/10 [==============================] - 0s 13ms/step - loss: 0.0398 - val_loss: 0.0286\n",
            "Epoch 26/100\n",
            "10/10 [==============================] - 0s 12ms/step - loss: 0.0482 - val_loss: 0.0282\n",
            "Epoch 27/100\n",
            "10/10 [==============================] - 0s 12ms/step - loss: 0.0425 - val_loss: 0.0444\n",
            "Epoch 28/100\n",
            "10/10 [==============================] - 0s 13ms/step - loss: 0.0452 - val_loss: 0.0265\n",
            "Epoch 29/100\n",
            "10/10 [==============================] - 0s 13ms/step - loss: 0.0392 - val_loss: 0.0237\n",
            "Epoch 30/100\n",
            "10/10 [==============================] - 0s 15ms/step - loss: 0.0379 - val_loss: 0.0259\n",
            "Epoch 31/100\n",
            "10/10 [==============================] - 0s 17ms/step - loss: 0.0416 - val_loss: 0.0244\n",
            "Epoch 32/100\n",
            "10/10 [==============================] - 0s 12ms/step - loss: 0.0432 - val_loss: 0.0271\n",
            "Epoch 33/100\n",
            "10/10 [==============================] - 0s 12ms/step - loss: 0.0368 - val_loss: 0.0250\n",
            "Epoch 34/100\n",
            "10/10 [==============================] - 0s 16ms/step - loss: 0.0404 - val_loss: 0.0302\n",
            "Epoch 35/100\n",
            "10/10 [==============================] - 0s 20ms/step - loss: 0.0404 - val_loss: 0.0234\n",
            "Epoch 36/100\n",
            "10/10 [==============================] - 0s 22ms/step - loss: 0.0384 - val_loss: 0.0224\n",
            "Epoch 37/100\n",
            "10/10 [==============================] - 0s 19ms/step - loss: 0.0348 - val_loss: 0.0229\n",
            "Epoch 38/100\n",
            "10/10 [==============================] - 0s 20ms/step - loss: 0.0381 - val_loss: 0.0235\n",
            "Epoch 39/100\n",
            "10/10 [==============================] - 0s 17ms/step - loss: 0.0373 - val_loss: 0.0252\n",
            "Epoch 40/100\n",
            "10/10 [==============================] - 0s 12ms/step - loss: 0.0388 - val_loss: 0.0322\n",
            "Epoch 41/100\n",
            "10/10 [==============================] - 0s 15ms/step - loss: 0.0357 - val_loss: 0.0231\n",
            "Epoch 42/100\n",
            "10/10 [==============================] - 0s 13ms/step - loss: 0.0339 - val_loss: 0.0293\n",
            "Epoch 43/100\n",
            "10/10 [==============================] - 0s 12ms/step - loss: 0.0381 - val_loss: 0.0459\n",
            "Epoch 44/100\n",
            "10/10 [==============================] - 0s 13ms/step - loss: 0.0386 - val_loss: 0.0221\n",
            "Epoch 45/100\n",
            "10/10 [==============================] - 0s 12ms/step - loss: 0.0396 - val_loss: 0.0227\n",
            "Epoch 46/100\n",
            "10/10 [==============================] - 0s 20ms/step - loss: 0.0360 - val_loss: 0.0328\n",
            "Epoch 47/100\n",
            "10/10 [==============================] - 0s 16ms/step - loss: 0.0362 - val_loss: 0.0215\n",
            "Epoch 48/100\n",
            "10/10 [==============================] - 0s 22ms/step - loss: 0.0346 - val_loss: 0.0232\n",
            "Epoch 49/100\n",
            "10/10 [==============================] - 0s 22ms/step - loss: 0.0381 - val_loss: 0.0297\n",
            "Epoch 50/100\n",
            "10/10 [==============================] - 0s 21ms/step - loss: 0.0399 - val_loss: 0.0206\n",
            "Epoch 51/100\n",
            "10/10 [==============================] - 0s 22ms/step - loss: 0.0340 - val_loss: 0.0224\n",
            "Epoch 52/100\n",
            "10/10 [==============================] - 0s 13ms/step - loss: 0.0346 - val_loss: 0.0270\n",
            "Epoch 53/100\n",
            "10/10 [==============================] - 0s 15ms/step - loss: 0.0392 - val_loss: 0.0246\n",
            "Epoch 54/100\n",
            "10/10 [==============================] - 0s 13ms/step - loss: 0.0378 - val_loss: 0.0219\n",
            "Epoch 55/100\n",
            "10/10 [==============================] - 0s 13ms/step - loss: 0.0309 - val_loss: 0.0220\n",
            "Epoch 56/100\n",
            "10/10 [==============================] - 0s 13ms/step - loss: 0.0349 - val_loss: 0.0210\n",
            "Epoch 57/100\n",
            "10/10 [==============================] - 0s 12ms/step - loss: 0.0374 - val_loss: 0.0352\n",
            "Epoch 58/100\n",
            "10/10 [==============================] - 0s 13ms/step - loss: 0.0403 - val_loss: 0.0209\n",
            "Epoch 59/100\n",
            "10/10 [==============================] - 0s 14ms/step - loss: 0.0346 - val_loss: 0.0207\n",
            "Epoch 60/100\n",
            "10/10 [==============================] - 0s 12ms/step - loss: 0.0359 - val_loss: 0.0228\n",
            "Epoch 61/100\n",
            "10/10 [==============================] - 0s 17ms/step - loss: 0.0354 - val_loss: 0.0205\n",
            "Epoch 62/100\n",
            "10/10 [==============================] - 0s 13ms/step - loss: 0.0355 - val_loss: 0.0282\n",
            "Epoch 63/100\n",
            "10/10 [==============================] - 0s 12ms/step - loss: 0.0333 - val_loss: 0.0306\n",
            "Epoch 64/100\n",
            "10/10 [==============================] - 0s 13ms/step - loss: 0.0350 - val_loss: 0.0216\n",
            "Epoch 65/100\n",
            "10/10 [==============================] - 0s 13ms/step - loss: 0.0370 - val_loss: 0.0224\n",
            "Epoch 66/100\n",
            "10/10 [==============================] - 0s 12ms/step - loss: 0.0327 - val_loss: 0.0209\n",
            "Epoch 67/100\n",
            "10/10 [==============================] - 0s 13ms/step - loss: 0.0349 - val_loss: 0.0362\n",
            "Epoch 68/100\n",
            "10/10 [==============================] - 0s 13ms/step - loss: 0.0404 - val_loss: 0.0201\n",
            "Epoch 69/100\n",
            "10/10 [==============================] - 0s 13ms/step - loss: 0.0334 - val_loss: 0.0297\n",
            "Epoch 70/100\n",
            "10/10 [==============================] - 0s 13ms/step - loss: 0.0353 - val_loss: 0.0228\n",
            "Epoch 71/100\n",
            "10/10 [==============================] - 0s 34ms/step - loss: 0.0333 - val_loss: 0.0240\n",
            "Epoch 72/100\n",
            "10/10 [==============================] - 0s 14ms/step - loss: 0.0351 - val_loss: 0.0205\n",
            "Epoch 73/100\n",
            "10/10 [==============================] - 0s 13ms/step - loss: 0.0329 - val_loss: 0.0204\n",
            "Epoch 74/100\n",
            "10/10 [==============================] - 0s 13ms/step - loss: 0.0343 - val_loss: 0.0227\n",
            "Epoch 75/100\n",
            "10/10 [==============================] - 0s 14ms/step - loss: 0.0361 - val_loss: 0.0395\n",
            "Epoch 76/100\n",
            "10/10 [==============================] - 0s 12ms/step - loss: 0.0394 - val_loss: 0.0241\n",
            "Epoch 77/100\n",
            "10/10 [==============================] - 0s 13ms/step - loss: 0.0350 - val_loss: 0.0212\n",
            "Epoch 78/100\n",
            "10/10 [==============================] - 0s 13ms/step - loss: 0.0370 - val_loss: 0.0391\n",
            "Epoch 79/100\n",
            "10/10 [==============================] - 0s 14ms/step - loss: 0.0364 - val_loss: 0.0202\n",
            "Epoch 80/100\n",
            "10/10 [==============================] - 0s 13ms/step - loss: 0.0349 - val_loss: 0.0244\n",
            "Epoch 81/100\n",
            "10/10 [==============================] - 0s 13ms/step - loss: 0.0353 - val_loss: 0.0267\n",
            "Epoch 82/100\n",
            "10/10 [==============================] - 0s 13ms/step - loss: 0.0352 - val_loss: 0.0247\n",
            "Epoch 83/100\n",
            "10/10 [==============================] - 0s 15ms/step - loss: 0.0339 - val_loss: 0.0200\n",
            "Epoch 84/100\n",
            "10/10 [==============================] - 0s 14ms/step - loss: 0.0320 - val_loss: 0.0216\n",
            "Epoch 85/100\n",
            "10/10 [==============================] - 0s 13ms/step - loss: 0.0370 - val_loss: 0.0287\n",
            "Epoch 86/100\n",
            "10/10 [==============================] - 0s 13ms/step - loss: 0.0328 - val_loss: 0.0199\n",
            "Epoch 87/100\n",
            "10/10 [==============================] - 0s 13ms/step - loss: 0.0327 - val_loss: 0.0223\n",
            "Epoch 88/100\n",
            "10/10 [==============================] - 0s 18ms/step - loss: 0.0377 - val_loss: 0.0293\n",
            "Epoch 89/100\n",
            "10/10 [==============================] - 0s 22ms/step - loss: 0.0322 - val_loss: 0.0221\n",
            "Epoch 90/100\n",
            "10/10 [==============================] - 0s 17ms/step - loss: 0.0313 - val_loss: 0.0210\n",
            "Epoch 91/100\n",
            "10/10 [==============================] - 0s 13ms/step - loss: 0.0344 - val_loss: 0.0220\n",
            "Epoch 92/100\n",
            "10/10 [==============================] - 0s 13ms/step - loss: 0.0349 - val_loss: 0.0234\n",
            "Epoch 93/100\n",
            "10/10 [==============================] - 0s 14ms/step - loss: 0.0339 - val_loss: 0.0198\n",
            "Epoch 94/100\n",
            "10/10 [==============================] - 0s 13ms/step - loss: 0.0341 - val_loss: 0.0193\n",
            "Epoch 95/100\n",
            "10/10 [==============================] - 0s 13ms/step - loss: 0.0356 - val_loss: 0.0250\n",
            "Epoch 96/100\n",
            "10/10 [==============================] - 0s 13ms/step - loss: 0.0340 - val_loss: 0.0195\n",
            "Epoch 97/100\n",
            "10/10 [==============================] - 0s 14ms/step - loss: 0.0340 - val_loss: 0.0208\n",
            "Epoch 98/100\n",
            "10/10 [==============================] - 0s 13ms/step - loss: 0.0344 - val_loss: 0.0192\n",
            "Epoch 99/100\n",
            "10/10 [==============================] - 0s 12ms/step - loss: 0.0326 - val_loss: 0.0206\n",
            "Epoch 100/100\n",
            "10/10 [==============================] - 0s 13ms/step - loss: 0.0315 - val_loss: 0.0229\n"
          ],
          "name": "stdout"
        },
        {
          "output_type": "execute_result",
          "data": {
            "text/plain": [
              "<tensorflow.python.keras.callbacks.History at 0x7f50c1475748>"
            ]
          },
          "metadata": {
            "tags": []
          },
          "execution_count": 149
        }
      ]
    },
    {
      "cell_type": "code",
      "metadata": {
        "id": "3gTBOEz42uWh"
      },
      "source": [
        "### Prediction and check performance metrics\r\n",
        "train_predict=model.predict(Xtrain)\r\n",
        "test_predict=model.predict(Xtest)"
      ],
      "execution_count": 151,
      "outputs": []
    },
    {
      "cell_type": "code",
      "metadata": {
        "id": "MJ8dVQhY2wqh"
      },
      "source": [
        "### Transform back to original form\r\n",
        "train_predict=scaler.inverse_transform(train_predict)\r\n",
        "test_predict=scaler.inverse_transform(test_predict)"
      ],
      "execution_count": 152,
      "outputs": []
    },
    {
      "cell_type": "code",
      "metadata": {
        "id": "pvbRz-zQ2ygZ"
      },
      "source": [
        "rescaled_ytrain = scaler.inverse_transform(ytrain.reshape(-1, 1))\r\n",
        "rescaled_ytest = scaler.inverse_transform(ytest.reshape(-1, 1))"
      ],
      "execution_count": 153,
      "outputs": []
    },
    {
      "cell_type": "code",
      "metadata": {
        "colab": {
          "base_uri": "https://localhost:8080/"
        },
        "id": "_B4llO8A20mB",
        "outputId": "c46d2b73-a5ba-4cb5-efd4-83beb04e7c70"
      },
      "source": [
        "import math\r\n",
        "from sklearn.metrics import mean_squared_error\r\n",
        "from sklearn.metrics import mean_absolute_error\r\n",
        "math.sqrt(mean_squared_error(rescaled_ytrain,train_predict))"
      ],
      "execution_count": 157,
      "outputs": [
        {
          "output_type": "execute_result",
          "data": {
            "text/plain": [
              "789.4139669835364"
            ]
          },
          "metadata": {
            "tags": []
          },
          "execution_count": 157
        }
      ]
    },
    {
      "cell_type": "code",
      "metadata": {
        "colab": {
          "base_uri": "https://localhost:8080/"
        },
        "id": "J3bF90CJ22mQ",
        "outputId": "930ee55c-064d-4f6e-e73b-02ecbcf23ae4"
      },
      "source": [
        "# report performance\r\n",
        "mse = mean_squared_error(rescaled_ytest,test_predict)\r\n",
        "print('MSE: '+str(mse))\r\n",
        "mae = mean_absolute_error(rescaled_ytest,test_predict)\r\n",
        "print('MAE: '+str(mae))\r\n",
        "rmse = math.sqrt(mean_squared_error(rescaled_ytest,test_predict))\r\n",
        "print('RMSE: '+str(rmse))\r\n",
        "mape = np.mean(np.abs(test_predict - rescaled_ytest)/np.abs(rescaled_ytest))\r\n",
        "print('MAPE: '+str(mape))"
      ],
      "execution_count": 158,
      "outputs": [
        {
          "output_type": "stream",
          "text": [
            "MSE: 279884.54642158304\n",
            "MAE: 409.28064905128196\n",
            "RMSE: 529.0411575875577\n",
            "MAPE: 0.00877392632802082\n"
          ],
          "name": "stdout"
        }
      ]
    },
    {
      "cell_type": "code",
      "metadata": {
        "colab": {
          "base_uri": "https://localhost:8080/",
          "height": 388
        },
        "id": "9HHOEngY25UN",
        "outputId": "89b0068d-25e5-4283-a340-870c24180d2c"
      },
      "source": [
        "plt.figure(figsize=(15,6))\r\n",
        "plt.plot(scaler.inverse_transform(df1[200:,]),color='red', label='Actual Price')\r\n",
        "plt.plot(test_predict, color='blue', linestyle='dashed',label='Predicted Price')\r\n",
        "plt.title('BSE Sensex Prices Prediction - LSTM Model')\r\n",
        "plt.ylabel('Prices')\r\n",
        "plt.legend()\r\n",
        "plt.show()"
      ],
      "execution_count": 166,
      "outputs": [
        {
          "output_type": "display_data",
          "data": {
            "image/png": "[encoded data removed]",
            "text/plain": [
              "<Figure size 1080x432 with 1 Axes>"
            ]
          },
          "metadata": {
            "tags": [],
            "needs_background": "light"
          }
        }
      ]
    },
    {
      "cell_type": "markdown",
      "metadata": {
        "id": "vAZ56qsn0axs"
      },
      "source": [
        "**END**"
      ]
    }
  ]
}